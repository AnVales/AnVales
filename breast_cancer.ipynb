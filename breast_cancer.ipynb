{
  "cells": [
    {
      "cell_type": "markdown",
      "metadata": {
        "id": "8g4OeGmF832H"
      },
      "source": [
        "Description: This program detects breast cancer, based of data.\n",
        "Guide: https://youtu.be/NSSOyhJBmWY"
      ]
    },
    {
      "cell_type": "code",
      "execution_count": 88,
      "metadata": {
        "id": "QNAwZEV29FYN"
      },
      "outputs": [],
      "source": [
        "# Import libraries\n",
        "import numpy as np\n",
        "import pandas as pd\n",
        "import matplotlib.pyplot as plt\n",
        "import seaborn as sns"
      ]
    },
    {
      "cell_type": "code",
      "execution_count": 89,
      "metadata": {
        "colab": {
          "base_uri": "https://localhost:8080/",
          "height": 436,
          "resources": {
            "http://localhost:8080/nbextensions/google.colab/files.js": {
              "data": "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",
              "headers": [
                [
                  "content-type",
                  "application/javascript"
                ]
              ],
              "ok": true,
              "status": 200,
              "status_text": ""
            }
          }
        },
        "id": "kDRqHvEp9XHk",
        "outputId": "377778d5-6715-419d-d91a-e3838507d98f"
      },
      "outputs": [
        {
          "output_type": "display_data",
          "data": {
            "text/plain": [
              "<IPython.core.display.HTML object>"
            ],
            "text/html": [
              "\n",
              "     <input type=\"file\" id=\"files-3d5e1f72-e7e5-4174-878a-975850640ce1\" name=\"files[]\" multiple disabled\n",
              "        style=\"border:none\" />\n",
              "     <output id=\"result-3d5e1f72-e7e5-4174-878a-975850640ce1\">\n",
              "      Upload widget is only available when the cell has been executed in the\n",
              "      current browser session. Please rerun this cell to enable.\n",
              "      </output>\n",
              "      <script src=\"/nbextensions/google.colab/files.js\"></script> "
            ]
          },
          "metadata": {}
        },
        {
          "output_type": "stream",
          "name": "stdout",
          "text": [
            "Saving data.csv to data (1).csv\n"
          ]
        },
        {
          "output_type": "execute_result",
          "data": {
            "text/plain": [
              "         id diagnosis  radius_mean  texture_mean  perimeter_mean  area_mean  \\\n",
              "0    842302         M        17.99         10.38          122.80     1001.0   \n",
              "1    842517         M        20.57         17.77          132.90     1326.0   \n",
              "2  84300903         M        19.69         21.25          130.00     1203.0   \n",
              "3  84348301         M        11.42         20.38           77.58      386.1   \n",
              "4  84358402         M        20.29         14.34          135.10     1297.0   \n",
              "5    843786         M        12.45         15.70           82.57      477.1   \n",
              "6    844359         M        18.25         19.98          119.60     1040.0   \n",
              "\n",
              "   smoothness_mean  compactness_mean  concavity_mean  concave points_mean  \\\n",
              "0          0.11840           0.27760          0.3001              0.14710   \n",
              "1          0.08474           0.07864          0.0869              0.07017   \n",
              "2          0.10960           0.15990          0.1974              0.12790   \n",
              "3          0.14250           0.28390          0.2414              0.10520   \n",
              "4          0.10030           0.13280          0.1980              0.10430   \n",
              "5          0.12780           0.17000          0.1578              0.08089   \n",
              "6          0.09463           0.10900          0.1127              0.07400   \n",
              "\n",
              "   ...  texture_worst  perimeter_worst  area_worst  smoothness_worst  \\\n",
              "0  ...          17.33           184.60      2019.0            0.1622   \n",
              "1  ...          23.41           158.80      1956.0            0.1238   \n",
              "2  ...          25.53           152.50      1709.0            0.1444   \n",
              "3  ...          26.50            98.87       567.7            0.2098   \n",
              "4  ...          16.67           152.20      1575.0            0.1374   \n",
              "5  ...          23.75           103.40       741.6            0.1791   \n",
              "6  ...          27.66           153.20      1606.0            0.1442   \n",
              "\n",
              "   compactness_worst  concavity_worst  concave points_worst  symmetry_worst  \\\n",
              "0             0.6656           0.7119                0.2654          0.4601   \n",
              "1             0.1866           0.2416                0.1860          0.2750   \n",
              "2             0.4245           0.4504                0.2430          0.3613   \n",
              "3             0.8663           0.6869                0.2575          0.6638   \n",
              "4             0.2050           0.4000                0.1625          0.2364   \n",
              "5             0.5249           0.5355                0.1741          0.3985   \n",
              "6             0.2576           0.3784                0.1932          0.3063   \n",
              "\n",
              "   fractal_dimension_worst  Unnamed: 32  \n",
              "0                  0.11890          NaN  \n",
              "1                  0.08902          NaN  \n",
              "2                  0.08758          NaN  \n",
              "3                  0.17300          NaN  \n",
              "4                  0.07678          NaN  \n",
              "5                  0.12440          NaN  \n",
              "6                  0.08368          NaN  \n",
              "\n",
              "[7 rows x 33 columns]"
            ],
            "text/html": [
              "\n",
              "  <div id=\"df-b3659a46-dfdb-436b-a4e4-861b5291daff\">\n",
              "    <div class=\"colab-df-container\">\n",
              "      <div>\n",
              "<style scoped>\n",
              "    .dataframe tbody tr th:only-of-type {\n",
              "        vertical-align: middle;\n",
              "    }\n",
              "\n",
              "    .dataframe tbody tr th {\n",
              "        vertical-align: top;\n",
              "    }\n",
              "\n",
              "    .dataframe thead th {\n",
              "        text-align: right;\n",
              "    }\n",
              "</style>\n",
              "<table border=\"1\" class=\"dataframe\">\n",
              "  <thead>\n",
              "    <tr style=\"text-align: right;\">\n",
              "      <th></th>\n",
              "      <th>id</th>\n",
              "      <th>diagnosis</th>\n",
              "      <th>radius_mean</th>\n",
              "      <th>texture_mean</th>\n",
              "      <th>perimeter_mean</th>\n",
              "      <th>area_mean</th>\n",
              "      <th>smoothness_mean</th>\n",
              "      <th>compactness_mean</th>\n",
              "      <th>concavity_mean</th>\n",
              "      <th>concave points_mean</th>\n",
              "      <th>...</th>\n",
              "      <th>texture_worst</th>\n",
              "      <th>perimeter_worst</th>\n",
              "      <th>area_worst</th>\n",
              "      <th>smoothness_worst</th>\n",
              "      <th>compactness_worst</th>\n",
              "      <th>concavity_worst</th>\n",
              "      <th>concave points_worst</th>\n",
              "      <th>symmetry_worst</th>\n",
              "      <th>fractal_dimension_worst</th>\n",
              "      <th>Unnamed: 32</th>\n",
              "    </tr>\n",
              "  </thead>\n",
              "  <tbody>\n",
              "    <tr>\n",
              "      <th>0</th>\n",
              "      <td>842302</td>\n",
              "      <td>M</td>\n",
              "      <td>17.99</td>\n",
              "      <td>10.38</td>\n",
              "      <td>122.80</td>\n",
              "      <td>1001.0</td>\n",
              "      <td>0.11840</td>\n",
              "      <td>0.27760</td>\n",
              "      <td>0.3001</td>\n",
              "      <td>0.14710</td>\n",
              "      <td>...</td>\n",
              "      <td>17.33</td>\n",
              "      <td>184.60</td>\n",
              "      <td>2019.0</td>\n",
              "      <td>0.1622</td>\n",
              "      <td>0.6656</td>\n",
              "      <td>0.7119</td>\n",
              "      <td>0.2654</td>\n",
              "      <td>0.4601</td>\n",
              "      <td>0.11890</td>\n",
              "      <td>NaN</td>\n",
              "    </tr>\n",
              "    <tr>\n",
              "      <th>1</th>\n",
              "      <td>842517</td>\n",
              "      <td>M</td>\n",
              "      <td>20.57</td>\n",
              "      <td>17.77</td>\n",
              "      <td>132.90</td>\n",
              "      <td>1326.0</td>\n",
              "      <td>0.08474</td>\n",
              "      <td>0.07864</td>\n",
              "      <td>0.0869</td>\n",
              "      <td>0.07017</td>\n",
              "      <td>...</td>\n",
              "      <td>23.41</td>\n",
              "      <td>158.80</td>\n",
              "      <td>1956.0</td>\n",
              "      <td>0.1238</td>\n",
              "      <td>0.1866</td>\n",
              "      <td>0.2416</td>\n",
              "      <td>0.1860</td>\n",
              "      <td>0.2750</td>\n",
              "      <td>0.08902</td>\n",
              "      <td>NaN</td>\n",
              "    </tr>\n",
              "    <tr>\n",
              "      <th>2</th>\n",
              "      <td>84300903</td>\n",
              "      <td>M</td>\n",
              "      <td>19.69</td>\n",
              "      <td>21.25</td>\n",
              "      <td>130.00</td>\n",
              "      <td>1203.0</td>\n",
              "      <td>0.10960</td>\n",
              "      <td>0.15990</td>\n",
              "      <td>0.1974</td>\n",
              "      <td>0.12790</td>\n",
              "      <td>...</td>\n",
              "      <td>25.53</td>\n",
              "      <td>152.50</td>\n",
              "      <td>1709.0</td>\n",
              "      <td>0.1444</td>\n",
              "      <td>0.4245</td>\n",
              "      <td>0.4504</td>\n",
              "      <td>0.2430</td>\n",
              "      <td>0.3613</td>\n",
              "      <td>0.08758</td>\n",
              "      <td>NaN</td>\n",
              "    </tr>\n",
              "    <tr>\n",
              "      <th>3</th>\n",
              "      <td>84348301</td>\n",
              "      <td>M</td>\n",
              "      <td>11.42</td>\n",
              "      <td>20.38</td>\n",
              "      <td>77.58</td>\n",
              "      <td>386.1</td>\n",
              "      <td>0.14250</td>\n",
              "      <td>0.28390</td>\n",
              "      <td>0.2414</td>\n",
              "      <td>0.10520</td>\n",
              "      <td>...</td>\n",
              "      <td>26.50</td>\n",
              "      <td>98.87</td>\n",
              "      <td>567.7</td>\n",
              "      <td>0.2098</td>\n",
              "      <td>0.8663</td>\n",
              "      <td>0.6869</td>\n",
              "      <td>0.2575</td>\n",
              "      <td>0.6638</td>\n",
              "      <td>0.17300</td>\n",
              "      <td>NaN</td>\n",
              "    </tr>\n",
              "    <tr>\n",
              "      <th>4</th>\n",
              "      <td>84358402</td>\n",
              "      <td>M</td>\n",
              "      <td>20.29</td>\n",
              "      <td>14.34</td>\n",
              "      <td>135.10</td>\n",
              "      <td>1297.0</td>\n",
              "      <td>0.10030</td>\n",
              "      <td>0.13280</td>\n",
              "      <td>0.1980</td>\n",
              "      <td>0.10430</td>\n",
              "      <td>...</td>\n",
              "      <td>16.67</td>\n",
              "      <td>152.20</td>\n",
              "      <td>1575.0</td>\n",
              "      <td>0.1374</td>\n",
              "      <td>0.2050</td>\n",
              "      <td>0.4000</td>\n",
              "      <td>0.1625</td>\n",
              "      <td>0.2364</td>\n",
              "      <td>0.07678</td>\n",
              "      <td>NaN</td>\n",
              "    </tr>\n",
              "    <tr>\n",
              "      <th>5</th>\n",
              "      <td>843786</td>\n",
              "      <td>M</td>\n",
              "      <td>12.45</td>\n",
              "      <td>15.70</td>\n",
              "      <td>82.57</td>\n",
              "      <td>477.1</td>\n",
              "      <td>0.12780</td>\n",
              "      <td>0.17000</td>\n",
              "      <td>0.1578</td>\n",
              "      <td>0.08089</td>\n",
              "      <td>...</td>\n",
              "      <td>23.75</td>\n",
              "      <td>103.40</td>\n",
              "      <td>741.6</td>\n",
              "      <td>0.1791</td>\n",
              "      <td>0.5249</td>\n",
              "      <td>0.5355</td>\n",
              "      <td>0.1741</td>\n",
              "      <td>0.3985</td>\n",
              "      <td>0.12440</td>\n",
              "      <td>NaN</td>\n",
              "    </tr>\n",
              "    <tr>\n",
              "      <th>6</th>\n",
              "      <td>844359</td>\n",
              "      <td>M</td>\n",
              "      <td>18.25</td>\n",
              "      <td>19.98</td>\n",
              "      <td>119.60</td>\n",
              "      <td>1040.0</td>\n",
              "      <td>0.09463</td>\n",
              "      <td>0.10900</td>\n",
              "      <td>0.1127</td>\n",
              "      <td>0.07400</td>\n",
              "      <td>...</td>\n",
              "      <td>27.66</td>\n",
              "      <td>153.20</td>\n",
              "      <td>1606.0</td>\n",
              "      <td>0.1442</td>\n",
              "      <td>0.2576</td>\n",
              "      <td>0.3784</td>\n",
              "      <td>0.1932</td>\n",
              "      <td>0.3063</td>\n",
              "      <td>0.08368</td>\n",
              "      <td>NaN</td>\n",
              "    </tr>\n",
              "  </tbody>\n",
              "</table>\n",
              "<p>7 rows × 33 columns</p>\n",
              "</div>\n",
              "      <button class=\"colab-df-convert\" onclick=\"convertToInteractive('df-b3659a46-dfdb-436b-a4e4-861b5291daff')\"\n",
              "              title=\"Convert this dataframe to an interactive table.\"\n",
              "              style=\"display:none;\">\n",
              "        \n",
              "  <svg xmlns=\"http://www.w3.org/2000/svg\" height=\"24px\"viewBox=\"0 0 24 24\"\n",
              "       width=\"24px\">\n",
              "    <path d=\"M0 0h24v24H0V0z\" fill=\"none\"/>\n",
              "    <path d=\"M18.56 5.44l.94 2.06.94-2.06 2.06-.94-2.06-.94-.94-2.06-.94 2.06-2.06.94zm-11 1L8.5 8.5l.94-2.06 2.06-.94-2.06-.94L8.5 2.5l-.94 2.06-2.06.94zm10 10l.94 2.06.94-2.06 2.06-.94-2.06-.94-.94-2.06-.94 2.06-2.06.94z\"/><path d=\"M17.41 7.96l-1.37-1.37c-.4-.4-.92-.59-1.43-.59-.52 0-1.04.2-1.43.59L10.3 9.45l-7.72 7.72c-.78.78-.78 2.05 0 2.83L4 21.41c.39.39.9.59 1.41.59.51 0 1.02-.2 1.41-.59l7.78-7.78 2.81-2.81c.8-.78.8-2.07 0-2.86zM5.41 20L4 18.59l7.72-7.72 1.47 1.35L5.41 20z\"/>\n",
              "  </svg>\n",
              "      </button>\n",
              "      \n",
              "  <style>\n",
              "    .colab-df-container {\n",
              "      display:flex;\n",
              "      flex-wrap:wrap;\n",
              "      gap: 12px;\n",
              "    }\n",
              "\n",
              "    .colab-df-convert {\n",
              "      background-color: #E8F0FE;\n",
              "      border: none;\n",
              "      border-radius: 50%;\n",
              "      cursor: pointer;\n",
              "      display: none;\n",
              "      fill: #1967D2;\n",
              "      height: 32px;\n",
              "      padding: 0 0 0 0;\n",
              "      width: 32px;\n",
              "    }\n",
              "\n",
              "    .colab-df-convert:hover {\n",
              "      background-color: #E2EBFA;\n",
              "      box-shadow: 0px 1px 2px rgba(60, 64, 67, 0.3), 0px 1px 3px 1px rgba(60, 64, 67, 0.15);\n",
              "      fill: #174EA6;\n",
              "    }\n",
              "\n",
              "    [theme=dark] .colab-df-convert {\n",
              "      background-color: #3B4455;\n",
              "      fill: #D2E3FC;\n",
              "    }\n",
              "\n",
              "    [theme=dark] .colab-df-convert:hover {\n",
              "      background-color: #434B5C;\n",
              "      box-shadow: 0px 1px 3px 1px rgba(0, 0, 0, 0.15);\n",
              "      filter: drop-shadow(0px 1px 2px rgba(0, 0, 0, 0.3));\n",
              "      fill: #FFFFFF;\n",
              "    }\n",
              "  </style>\n",
              "\n",
              "      <script>\n",
              "        const buttonEl =\n",
              "          document.querySelector('#df-b3659a46-dfdb-436b-a4e4-861b5291daff button.colab-df-convert');\n",
              "        buttonEl.style.display =\n",
              "          google.colab.kernel.accessAllowed ? 'block' : 'none';\n",
              "\n",
              "        async function convertToInteractive(key) {\n",
              "          const element = document.querySelector('#df-b3659a46-dfdb-436b-a4e4-861b5291daff');\n",
              "          const dataTable =\n",
              "            await google.colab.kernel.invokeFunction('convertToInteractive',\n",
              "                                                     [key], {});\n",
              "          if (!dataTable) return;\n",
              "\n",
              "          const docLinkHtml = 'Like what you see? Visit the ' +\n",
              "            '<a target=\"_blank\" href=https://colab.research.google.com/notebooks/data_table.ipynb>data table notebook</a>'\n",
              "            + ' to learn more about interactive tables.';\n",
              "          element.innerHTML = '';\n",
              "          dataTable['output_type'] = 'display_data';\n",
              "          await google.colab.output.renderOutput(dataTable, element);\n",
              "          const docLink = document.createElement('div');\n",
              "          docLink.innerHTML = docLinkHtml;\n",
              "          element.appendChild(docLink);\n",
              "        }\n",
              "      </script>\n",
              "    </div>\n",
              "  </div>\n",
              "  "
            ]
          },
          "metadata": {},
          "execution_count": 89
        }
      ],
      "source": [
        "# Load the data\n",
        "from google.colab import files\n",
        "uploaded = files.upload()\n",
        "df = pd.read_csv('data.csv')\n",
        "df.head(7)"
      ]
    },
    {
      "cell_type": "code",
      "execution_count": 90,
      "metadata": {
        "colab": {
          "base_uri": "https://localhost:8080/"
        },
        "id": "KgiDIevaBzC0",
        "outputId": "4e8d79eb-0562-478d-cd44-541d5dfe01c4"
      },
      "outputs": [
        {
          "output_type": "execute_result",
          "data": {
            "text/plain": [
              "(569, 33)"
            ]
          },
          "metadata": {},
          "execution_count": 90
        }
      ],
      "source": [
        "# How many patients do we have in the dataset?\n",
        "df.shape"
      ]
    },
    {
      "cell_type": "markdown",
      "metadata": {
        "id": "nnLH4lANCFOt"
      },
      "source": [
        "We have 569 patients with 33 features."
      ]
    },
    {
      "cell_type": "code",
      "execution_count": null,
      "metadata": {
        "id": "1Eo_J6C2CLXi"
      },
      "outputs": [],
      "source": [
        "# How many NAN values have each feature/col?\n",
        "df.isna().sum()"
      ]
    },
    {
      "cell_type": "markdown",
      "metadata": {
        "id": "0ta5UyQLCbuk"
      },
      "source": [
        "Unnamed: 32 has 569 NaN values: this column is useless."
      ]
    },
    {
      "cell_type": "markdown",
      "metadata": {
        "id": "4u-irsL6c02c"
      },
      "source": [
        "Let's delete Unnamed: 32 column."
      ]
    },
    {
      "cell_type": "code",
      "execution_count": null,
      "metadata": {
        "id": "yflHpC64c5XO"
      },
      "outputs": [],
      "source": [
        "# Drop Unnamed: 32 -> Drop columns which contain missing value\n",
        "df = df.dropna(axis=1)\n",
        "df.shape\n",
        "df.isna().sum()"
      ]
    },
    {
      "cell_type": "code",
      "execution_count": 93,
      "metadata": {
        "colab": {
          "base_uri": "https://localhost:8080/"
        },
        "id": "g4KUMVAVeJHP",
        "outputId": "e678cf70-4cf0-4833-8606-abcd6eefa5c3"
      },
      "outputs": [
        {
          "output_type": "execute_result",
          "data": {
            "text/plain": [
              "(569, 32)"
            ]
          },
          "metadata": {},
          "execution_count": 93
        }
      ],
      "source": [
        "# How many features?\n",
        "df.shape"
      ]
    },
    {
      "cell_type": "code",
      "execution_count": null,
      "metadata": {
        "id": "-niPxRnD5nVZ"
      },
      "outputs": [],
      "source": [
        "# How many people have cancerous malignant cells? And benign?\n",
        "df.diagnosis.value_counts()"
      ]
    },
    {
      "cell_type": "markdown",
      "metadata": {
        "id": "GCc-KdSl-FW0"
      },
      "source": [
        "There are 357 non-malignant (benign) and 212 malignant samples."
      ]
    },
    {
      "cell_type": "code",
      "execution_count": 95,
      "metadata": {
        "colab": {
          "base_uri": "https://localhost:8080/",
          "height": 354
        },
        "id": "sijg5u3B-q25",
        "outputId": "67cb7bc9-0225-4c17-c01d-b87dfad53ac7"
      },
      "outputs": [
        {
          "output_type": "stream",
          "name": "stderr",
          "text": [
            "/usr/local/lib/python3.7/dist-packages/seaborn/_decorators.py:43: FutureWarning: Pass the following variable as a keyword arg: x. From version 0.12, the only valid positional argument will be `data`, and passing other arguments without an explicit keyword will result in an error or misinterpretation.\n",
            "  FutureWarning\n"
          ]
        },
        {
          "output_type": "execute_result",
          "data": {
            "text/plain": [
              "<matplotlib.axes._subplots.AxesSubplot at 0x7ff6d41d1b90>"
            ]
          },
          "metadata": {},
          "execution_count": 95
        },
        {
          "output_type": "display_data",
          "data": {
            "text/plain": [
              "<Figure size 432x288 with 1 Axes>"
            ],
            "image/png": "[encoded data removed]"
          },
          "metadata": {
            "needs_background": "light"
          }
        }
      ],
      "source": [
        "# Let's visualize the diagnosis\n",
        "sns.countplot(df.diagnosis ,label=\"Count\")"
      ]
    },
    {
      "cell_type": "markdown",
      "metadata": {
        "id": "v_JUdSDc_-CT"
      },
      "source": [
        "To analyse the data it is easier to have numeric values than strings, let's check the type of values features have."
      ]
    },
    {
      "cell_type": "code",
      "execution_count": null,
      "metadata": {
        "id": "Wfy697tCAPDY"
      },
      "outputs": [],
      "source": [
        "#Look at the data types \n",
        "df.dtypes"
      ]
    },
    {
      "cell_type": "markdown",
      "metadata": {
        "id": "vYKQWNoPAUYP"
      },
      "source": [
        "Except for the diagnosis column, the others store numerical values."
      ]
    },
    {
      "cell_type": "markdown",
      "metadata": {
        "id": "h1vKiMuTBg9P"
      },
      "source": [
        "To fix this, the values for benign and malignant are coded as 0 and 1. Benign is coded as 0 and malignant as 1."
      ]
    },
    {
      "cell_type": "code",
      "execution_count": null,
      "metadata": {
        "id": "H6qJtuZ2BjYr"
      },
      "outputs": [],
      "source": [
        "# #Encoding categorical data values -> \n",
        "# https://scikit-learn.org/stable/modules/generated/sklearn.preprocessing.LabelEncoder.html\n",
        "from sklearn.preprocessing import LabelEncoder\n",
        "le_y = LabelEncoder()\n",
        "df.iloc[:,1] = le_y.fit_transform(df.iloc[:,1].values)\n",
        "df.iloc[:,1].values"
      ]
    },
    {
      "cell_type": "markdown",
      "metadata": {
        "id": "bL7YJNCZH0qP"
      },
      "source": [
        "We are going to make a pair graph. This graph plots one variable against another with a dot plot."
      ]
    },
    {
      "cell_type": "markdown",
      "metadata": {
        "id": "NyCxEU1NKgbB"
      },
      "source": [
        "A pairplot plot a pairwise relationships in a dataset. The pairplot function creates a grid of Axes such that each variable in data will by shared in the y-axis across a single row and in the x-axis across a single column. \n",
        "\n",
        "\n",
        "Pair plot is used to understand the best set of features to explain a relationship between two variables or to form the most separated clusters. It also helps to form some simple classification models by drawing some simple lines or make linear separation in our data-set."
      ]
    },
    {
      "cell_type": "code",
      "execution_count": null,
      "metadata": {
        "id": "Xv05YYS_OV1K"
      },
      "outputs": [],
      "source": [
        "sns.pairplot(df.iloc[:,1:6])"
      ]
    },
    {
      "cell_type": "code",
      "execution_count": null,
      "metadata": {
        "colab": {
          "background_save": true
        },
        "id": "ewcsLXT9OKR4"
      },
      "outputs": [],
      "source": [
        "sns.pairplot(df.iloc[:,1:32], hue=\"diagnosis\")"
      ]
    },
    {
      "cell_type": "markdown",
      "source": [
        "Blue -> 0 -> Benign non-cancerous cells\n",
        "Orange -> 1 -> malignant cancerous "
      ],
      "metadata": {
        "id": "HqHF6ntqkjhu"
      }
    },
    {
      "cell_type": "code",
      "source": [
        "# Let's check the features\n",
        "df.head(5)"
      ],
      "metadata": {
        "id": "gT8jHqyOkZ6V"
      },
      "execution_count": null,
      "outputs": []
    },
    {
      "cell_type": "code",
      "source": [
        "# Obtain correlation of the columns\n",
        "df.corr()"
      ],
      "metadata": {
        "id": "n8GaTxh3k9SO"
      },
      "execution_count": null,
      "outputs": []
    },
    {
      "cell_type": "code",
      "source": [
        "# Visualize the correlation with a Heatmap\n",
        "plt.figure(figsize=(20,20))  \n",
        "sns.heatmap(df.corr(), annot=True, fmt='.0%')"
      ],
      "metadata": {
        "id": "zBArY36tlIyO"
      },
      "execution_count": null,
      "outputs": []
    },
    {
      "cell_type": "markdown",
      "source": [
        "The data have been prepared and analysed. The next step is to realise the model. For this we have two types of data, dependent (Y) and independent (X)."
      ],
      "metadata": {
        "id": "FrQ2RUuen1Ka"
      }
    },
    {
      "cell_type": "code",
      "source": [
        "# Diagnosis -> dependent (Y)\n",
        "df.iloc[:, 1]"
      ],
      "metadata": {
        "id": "bc89kLWtoLt3"
      },
      "execution_count": null,
      "outputs": []
    },
    {
      "cell_type": "code",
      "source": [
        "# Some features -> independet (X)\n",
        "df.iloc[:, 2:31]"
      ],
      "metadata": {
        "id": "dIZL81eDoEjs"
      },
      "execution_count": null,
      "outputs": []
    },
    {
      "cell_type": "code",
      "source": [
        "X = df.iloc[:,2:31].values\n",
        "Y = df.iloc[:,1].values"
      ],
      "metadata": {
        "id": "SAFPDuizogvR"
      },
      "execution_count": 22,
      "outputs": []
    },
    {
      "cell_type": "code",
      "source": [
        "# Now we separate the data into training data (75%) and test data (25%).\n",
        "from sklearn.model_selection import train_test_split\n",
        "X_train, X_test, Y_train, Y_test = train_test_split(X, Y, test_size = 0.25, random_state = 0)"
      ],
      "metadata": {
        "id": "8BaT87Jeorcb"
      },
      "execution_count": 23,
      "outputs": []
    },
    {
      "cell_type": "code",
      "source": [
        "# The data is then scaled. This is important as many algorithms are sensitive to data scaling. The data is going to be scaled so that it is all between the same values.\n",
        "from sklearn.preprocessing import StandardScaler\n",
        "# https://scikit-learn.org/stable/modules/generated/sklearn.preprocessing.StandardScaler.html -> Standardize features by removing the mean and scaling to unit variance.\n",
        "sc = StandardScaler()\n",
        "sc.fit(X_train)\n",
        "print(sc.mean_)"
      ],
      "metadata": {
        "id": "mImnZe8bpo0e"
      },
      "execution_count": null,
      "outputs": []
    },
    {
      "cell_type": "code",
      "source": [
        "#\tFit to data, then transform it.\n",
        "X_train = sc.fit_transform(X_train)\n",
        "# Perform standardization by centering and scaling.\n",
        "X_test = sc.transform(X_test)"
      ],
      "metadata": {
        "id": "joT6aaSurE96"
      },
      "execution_count": 28,
      "outputs": []
    },
    {
      "cell_type": "markdown",
      "source": [
        "Now the model is built. As a priori it is not known which model will work best, several models will be implemented and the accuracy of each one will be indicated."
      ],
      "metadata": {
        "id": "-VV5Bn9frzJK"
      }
    },
    {
      "cell_type": "markdown",
      "source": [
        "Logistic regression -> Logistic regression is typically used when there is a dicotomous outcome variable (0/1) and a continuous predictor variable related to the probability of the outcome variable. It can also be used with multiple predictors or categorical predictors. \n",
        "\n",
        "https://scikit-learn.org/stable/modules/generated/sklearn.linear_model.LogisticRegression.html\n",
        "\n",
        "https://idaejin.github.io/courses/R/2019/euskaltel/regresion-logistica.html"
      ],
      "metadata": {
        "id": "28UQgwwasXxz"
      }
    },
    {
      "cell_type": "markdown",
      "source": [
        "KNeighborsClassifier -> This algorithm predicts the solution based on the closest observations to the one that it is trying to predict. It is supervised and instance-based, meaning that it does not \"learn\" as a decision tree or logistic regression, but memorises the complete database. It works best with small datasets, otherwise it requires a lot of CPU.\n",
        "\n",
        "https://www.aprendemachinelearning.com/clasificar-con-k-nearest-neighbor-ejemplo-en-python/#:~:text=%C2%BFQu%C3%A9%20es%20el%20algoritmo%20k,de%20datos%20que%20le%20rodean.\n",
        "\n",
        "https://scikit-learn.org/stable/modules/generated/sklearn.neighbors.KNeighborsClassifier.html?highlight=kneighborsclassifier#sklearn.neighbors.KNeighborsClassifier\n"
      ],
      "metadata": {
        "id": "kTo_FQ1_thvY"
      }
    },
    {
      "cell_type": "markdown",
      "source": [
        "SVC -> suport vector classification. The SVC is a reference algorithm in machine learning. It is mainly used for binomial systems, although it can also be used for multiple classification and regression problems.This classifier achieves good results when the separation line between classes is approximately linear. If it is not, its capacity drops drastically. One strategy to deal with scenarios where the group separation is non-linear is to expand the dimensions of the original space.\n",
        "\n",
        "https://www.cienciadedatos.net/documentos/34_maquinas_de_vector_soporte_support_vector_machines\n",
        "\n",
        "https://scikit-learn.org/stable/modules/generated/sklearn.svm.SVC.html#sklearn.svm.SVC"
      ],
      "metadata": {
        "id": "XDMOhuOyvhjo"
      }
    },
    {
      "cell_type": "markdown",
      "source": [
        "GaussianNB -> Bayesian inference obtains a prediction of unknown variables based on the known variables. The variables are connected by a directed graph and the probability relationship between them is determined. The structure of the Bayesian model allows the relationship between the variables to be visualised by describing the probability distribution between them, specifying conditional independence calculations along with conditional probabilities.\n",
        "\n",
        "https://www.urosario.edu.co/Administracion/documentos/investigacion/laboratorio/miller_2_3.pdf\n",
        "\n",
        "https://scikit-learn.org/stable/modules/generated/sklearn.naive_bayes.GaussianNB.html?highlight=gaussiannb#sklearn.naive_bayes.GaussianNB"
      ],
      "metadata": {
        "id": "KPcqQ_I1yzIC"
      }
    },
    {
      "cell_type": "markdown",
      "source": [
        "DecisionTreeClassifier -> Decision trees make decisions through nodes and their relationships. There are different types of nodes, initial nodes that perform the most important divisions, intermediate nodes that perform the divisions afterwards and final nodes that indicate the final division. It has some positive aspects since we do not need some assumptions such as linearity, normality, etc. It also works with different types of variables but tends to overfit, has problems with outlayers and the higher the complexity, the lower the interpretation.\n",
        "\n",
        "https://scikit-learn.org/stable/modules/generated/sklearn.tree.DecisionTreeClassifier.html?highlight=decisiontreeclassifier#sklearn.tree.DecisionTreeClassifier\n"
      ],
      "metadata": {
        "id": "djud7pZy2i2Q"
      }
    },
    {
      "cell_type": "markdown",
      "source": [
        "RandomForestClassifier -> Decision trees are good predictors with the data that they learn, but they tend to overfit. One method to improve the prediction is to use precision trees, so that the solution has to be generalized since no single tree has used the entire training dataset. \n",
        "\n",
        "https://www.iartificial.net/random-forest-bosque-aleatorio/\n",
        "\n",
        "https://scikit-learn.org/stable/modules/generated/sklearn.ensemble.RandomForestClassifier.html?highlight=randomforestclassifier#sklearn.ensemble.RandomForestClassifier\n"
      ],
      "metadata": {
        "id": "1Sir5Zco3a2M"
      }
    },
    {
      "cell_type": "markdown",
      "source": [
        "![image.png](data:image/png;base64,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)"
      ],
      "metadata": {
        "id": "WJ5GMnX24G0q"
      }
    },
    {
      "cell_type": "code",
      "source": [
        "def models(X_train,Y_train):\n",
        "  \n",
        "  #Using Logistic Regression \n",
        "  from sklearn.linear_model import LogisticRegression\n",
        "  log = LogisticRegression(random_state = 0)\n",
        "  log.fit(X_train, Y_train)\n",
        "  \n",
        "  #Using KNeighborsClassifier \n",
        "  from sklearn.neighbors import KNeighborsClassifier\n",
        "  knn = KNeighborsClassifier(n_neighbors = 5, metric = 'minkowski', p = 2)\n",
        "  knn.fit(X_train, Y_train)\n",
        "\n",
        "  #Using SVC linear\n",
        "  from sklearn.svm import SVC\n",
        "  svc_lin = SVC(kernel = 'linear', random_state = 0)\n",
        "  svc_lin.fit(X_train, Y_train)\n",
        "\n",
        "  #Using SVC rbf\n",
        "  from sklearn.svm import SVC\n",
        "  svc_rbf = SVC(kernel = 'rbf', random_state = 0)\n",
        "  svc_rbf.fit(X_train, Y_train)\n",
        "\n",
        "  #Using GaussianNB \n",
        "  from sklearn.naive_bayes import GaussianNB\n",
        "  gauss = GaussianNB()\n",
        "  gauss.fit(X_train, Y_train)\n",
        "\n",
        "  #Using DecisionTreeClassifier \n",
        "  from sklearn.tree import DecisionTreeClassifier\n",
        "  tree = DecisionTreeClassifier(criterion = 'entropy', random_state = 0)\n",
        "  tree.fit(X_train, Y_train)\n",
        "\n",
        "  #Using RandomForestClassifier\n",
        "  from sklearn.ensemble import RandomForestClassifier\n",
        "  forest = RandomForestClassifier(n_estimators = 50, criterion = 'entropy',max_depth = 25,oob_score = True, random_state = 0)\n",
        "  forest.fit(X_train, Y_train)\n",
        "  \n",
        "  #print model accuracy on the training data.\n",
        "  print('[0]Logistic Regression Training Accuracy:', log.score(X_train, Y_train))\n",
        "  print('[1]K Nearest Neighbor Training Accuracy:', knn.score(X_train, Y_train))\n",
        "  print('[2]Support Vector Machine (Linear Classifier) Training Accuracy:', svc_lin.score(X_train, Y_train))\n",
        "  print('[3]Support Vector Machine (RBF Classifier) Training Accuracy:', svc_rbf.score(X_train, Y_train))\n",
        "  print('[4]Gaussian Naive Bayes Training Accuracy:', gauss.score(X_train, Y_train))\n",
        "  print('[5]Decision Tree Classifier Training Accuracy:', tree.score(X_train, Y_train))\n",
        "  print('[6]Random Forest Classifier Training Accuracy:', forest.score(X_train, Y_train))\n",
        "  \n",
        "  return log, knn, svc_lin, svc_rbf, gauss, tree, forest"
      ],
      "metadata": {
        "id": "6jLygVG9r0Hs"
      },
      "execution_count": 84,
      "outputs": []
    },
    {
      "cell_type": "markdown",
      "source": [
        "We create the model with the data and check the accuracy score on the training data for each model to classify if a patient has cancer or not."
      ],
      "metadata": {
        "id": "eDZ8-0qt4j5M"
      }
    },
    {
      "cell_type": "code",
      "source": [
        "model = models(X_train,Y_train)"
      ],
      "metadata": {
        "colab": {
          "base_uri": "https://localhost:8080/"
        },
        "id": "uqfneO1b4qZ7",
        "outputId": "ed3aca70-8be7-4563-af60-e3732f5fe313"
      },
      "execution_count": 85,
      "outputs": [
        {
          "output_type": "stream",
          "name": "stdout",
          "text": [
            "[0]Logistic Regression Training Accuracy: 0.9906103286384976\n",
            "[1]K Nearest Neighbor Training Accuracy: 0.9765258215962441\n",
            "[2]Support Vector Machine (Linear Classifier) Training Accuracy: 0.9882629107981221\n",
            "[3]Support Vector Machine (RBF Classifier) Training Accuracy: 0.9835680751173709\n",
            "[4]Gaussian Naive Bayes Training Accuracy: 0.9507042253521126\n",
            "[5]Decision Tree Classifier Training Accuracy: 1.0\n",
            "[6]Random Forest Classifier Training Accuracy: 1.0\n"
          ]
        }
      ]
    },
    {
      "cell_type": "markdown",
      "source": [
        "The results with the training data are as expected. Now it is necessary to check how many patients were misdiagnosed, both false positives and false negatives and those who were correctly diagnosed as positive and negative."
      ],
      "metadata": {
        "id": "AtwOdkWj5hxI"
      }
    },
    {
      "cell_type": "markdown",
      "source": [
        "False Positive (FP) = A test result which incorrectly indicates that a particular condition or attribute is present.\n",
        "\n",
        "True Positive (TP) = Sensitivity (also called the true positive rate, or probability of detection in some fields) measures the proportion of actual positives that are correctly identified as such.\n",
        "\n",
        "True Negative (TN) = Specificity (also called the true negative rate) measures the proportion of actual negatives that are correctly identified as such.\n",
        "\n",
        "False Negative (FN) = A test result that indicates that a condition does not hold, while in fact it does."
      ],
      "metadata": {
        "id": "L1_HIux35rjC"
      }
    },
    {
      "cell_type": "markdown",
      "source": [
        "![image.png](data:image/png;base64,iVBORw0KGgoAAAANSUhEUgAAAZ8AAAEQCAYAAABvBHmZAAAgAElEQVR4nOzd53Mc553o++/TeXLCICeSCMxZOdjy2mfjqa2659b95+6rc97cqlv37J69u95d25JliZIlUswZAEEiEnkwmNz5vBgMBJKgREkmCFDPpwxbcs30PN1Pd//6Cf17QJIkSZJ2mQAIwzB81QWRJEmSfh6EEEJ51YWQJEmSfn5k8JEkSZJ2nQw+kiRJ0q6TwUeSJEnadTL4SJIkSbtOBh9JkiRp18ngI0mSJO06GXwkSZKkXSeDjyRJkrTrZPCRJEmSdp0MPpIkSdKuk8FHkiRJ2nUy+EiSJEm7TgYfSZIkadfJ4CNJkiTtOhl8JEmSpF2nveoCSJL0MoTgN8CuUa7UKVYDHGFixuMkUlGiukDDJaiVaJQrlOsetTCCsGLE4hGSMR1LEa96JwAf367gVMpUqzYVTycw4lixKMm4QVRX5BP0PiWDjyS9llxwHhM+Hmf8xhRf3bdZUrvoPHGSM2+NMtomSIVlGnOXmb5xgxuTFSb8ftTeExw5cZDzR7L0RdQ9cGOvY6/eY+HWFe7eX+RuKUet7TgDx0Z543g7IzkT81UXUfpRZPCRXi+hT+i7+J6L6/k4fkDgBwRBSBCEPLFevFAQQkdRTcyIgWUpr9EF4YO9SLh4jYdfXeTf/1hhXDvGESdL9Ogw3W0KcTaDz4V/5o9frPK5fR71rM7fRLP0H0rTG1Ff9U4AdRqr93l8+V+5+Ie7/MfiIIVDLm/6Wdr6MxyQwWffen2uNUkCsIv4aw9ZnH/E+NwqD5fqVOsudt3F8QL87Z8VJqrRgRE5yMFTQxx/q4cDEV6Tm1kAQQ1qK5SWZpmeLDFp5IitVCi64AIBNl5pnvVHt3h402HCT0JihcNrDSreU4H6lXHxaiuU5+4xe2eWm2tVPOcc6TMV1hv+k/Up7Ssy+Eivl8Ya3vwl5i5+zidfT/Lp/QYlOyQMQ8Jn7qYa0I2ineLkf3mfjbQGpzsYBKzdL/lfmAAUUHRU3cC0TAxdx9BV1K1PqChmkki6nUzHMnE7h5aNko5oGIpgL4z4gIqiRzGSbSTbH9PhtLPaliAXN7C0vVJG6ceQwUd6vXhl/I0pCo9uce/yFJfHDbxEG90HcrSnTKK0pngGBM4G5ceTrMwXuBlWIBXg1M/x1qE2htotErC/b25CBdVAMyNYEZeobhAxFDRarZo4ZucJet76B96NbhBzR1GHh3hjMEmb8RJu7KENdgG7sMrM/AZzRYEbzZLr6aKrK03GhMgzXzIxM0N0nPw1Z9xh3EIn5e5jHD6coy+uo/+lyyjtGhl8pNdMAPj4roJTS6OoA7SNnOadfzzBG0MZOgADmp+pjDH79Rfc/HSC8Uefcf2foVIUeP94BqO9j4NA9FXuyl+QEAIhAEICP2x2V4kkkf63OGAMEDnlcDZIIVIdtHek6TDUlxB86lB9SOPBNa786QGfjKlUOo5x8lfv8V4qzeEdg08UK3+UnrfSGIcqDNtR3Gg76fY2elIy+OxnMvhIrxcBQtURWhJNj5DOHqf32Ee8/Q+/4O/PdHCA1phOQFC5xXRfyLBW4P//t1ku3PqKG16CaF+G7EieaNqi3wRtXzZ/TDA1FEWghNBs6jT/IQw2gw8RjNwQ7bkh2nejSIoGYh21cJ+pq5f405911g9ZBIfPc0R9XivTQE/2kU32kR2G0d0op7QrXv1MSkn6ixKbdzEVgY6qRjAiCWKpDGm2TyZQUOJDHDh7njc+OsvZ0xl6jXnsuRuM3X7A9XvrPFqHRvCq9uOnUkFTQAgEIWLb9IEwfFWTCXTQwAhtvHqVSrlKqerQCBRCHdmK+ZmRLR/pNSQQIkQoAWHo4Dt1GpUyFXJ4bD/pTWgfoufUWY7cmWFk4jpLy3MU5uZ5OFlhoRucXAhBHc+pU/cFtoigaDoxxcEIajTqDTZqAbYvAAPNiBBJWERiBoaAbycr1wnrNTYqDco1j63GSKu8WgRhxbGiEVIWGN/b2nLBqdKo1SnXXRpOuLlNtTmLT/OJe1UsP8Q3NNC+LYkQyretDN/G92wcN8ANVELFQNM1TENBEzsVwga7SrXaoFL3cLxw274IFM3AiCWwEjGi6mZA8Rr4jTL1yjS1+Rnm5iqsuQLdgggb2EsPmLud4E479CgqqhFFt2JEIyZRHbTQA7+B43rYnoIvdFRdx9RVdHWnsakQwjperUapYlOzPYLwqeOtGAglghWLEkvqRL/jMTz0HQKnhuP51EOdQI0Q0RViig1unY1Kg1LNI9jatoZQTMxIlGjcwjKEvNHuQB4T6TUWAgFh4DXf+6E5xfjbk14FkmjZHOm2BOlYiBlWKVWrlCs+9QB8z4WNOxRm7nC7oPBAOYyV6uBkfIn+xl2mHk3x+b0a8yWLkG6yfaMceXeEo2d76FEhDkAd6vfZuHeHTy9P883EOl4IwbZyKOmDaINnOHDkKL8YiTOS+J5da8zgTV/n7p0HXBwvMLvmb24zBkovsVQ750Y3GI0H2HGL0KojXIEShiiKggoIQoLVe6xN3eD+zAbj1U7c9CgHhvo4MZSiy3r6JdMQKg+oPbzO9TtTXJrYYKUcbP6uAFSMVJ6Ok+8xfO5tjvZCL6BVZqk8+IJ7d77h9tg8t+9Mc3lmjYqr4K1e59GFKr9f/IJbMUiaccyeE3SNnufEkQGOtUFbY4763FXGHs5xZzVJMTJCx+ABTozkOJAxNsfwtivBxl0Wbt3js2uz3Jsr4wV8Oy1bKAitHc0YZuD4Uc784hBH2hWSzzuLKktUZi4zvbjCbbuTcuIoo50R3ozNESxP8OfrM1y4X8AJAARCT6AZfXSPHOXIG0cYHk7SKV6XKfx/OTL4SD9jAeCCbePYDg0/xFW05lN1JIIVASX0YfU2a9f/iUvjHh/7H6C1jVDIzXPK+ZqJ8fv8x+U6j4pJBIfpOa7i9XaQP91DXgUICcuT+A8ucvfLr/j403H+cLvwbe8gm59JHSYcrjKyLoioI3QdSxHXnzMOYq8QPPyGyW9+x4UvbvHbWxs8LCgoAkSYAA6RTPZR/cCgeHidGcejIUARAk0IFKUZVJrB5y5rN/6JS1/P8fuVk9QHQj4ME3T0Jel8Yr55CJUZ3PE/c//rj/njV2P85+0ay9XmRAax2f7RU910LxucFUMoZoZoViFfW6E2e4npq7/n4rU6Xz2ssVi0qdoCf73Owq1Fyo8iWBpo0SyxoyEjyiGi3QMMZqCtMkdt4nfc/ewK//Kgi5n033Ds/TixjiS9TwefsEZYuIN79wJXP7vEv30+xeWpSvPYbNuVMMwTBkcYfrdIKRkS/nqYUUWQ2eGAB5VFyhMfM379Fv+xOsRUqsi7Q21E85NoSzf48sI4//LNEl4AhCFhqBOG/fSd/wWzaoRq8iRnOqGPfT578i9MBh/pZ0wADthV7HqFotugJAArQiyeIBrb7DarF6gt3mHp7hpjhQZFa5Iw6fIwXsAPY5DL0ZtOo9NJR1eKbNwiSoDVeIy9Osfkrcs8uHSTy/dXmKzFMAaS5JTt7xKVqVXXWZ35ilmlyqfqBjonONKTYzijEWldpUEdqnOsT91k4vNP+PLLa3z+sMKMn0PrTZPXIRpqULcxqhMsTTj8brXK8mqR5ZKKiApMQ0XZ1lUV1laoL95lfuIhtx9bVL3z9J9qUAm23Sb9MpRnWB6/zL0//ZELX93my3mXJa0dqy9GmwYmLlDBCxyc8Qc8dC/TVu8n9X4vQo/gx9tJtPfT0bVOX3kN24G6J8BMEc12kO9IkTLBstJEOnN0pUySBugCgsYGtZUJlh9e4/7ddSbaTmIMVVm3t700HDpQm6eyOM7E9T/z6NINPrm/zINaDDrayEdbrVAg8HBWCxRmL7J4tcAXmVXK7gcsDQ5wfLCdjrjYNiUfQq+Osz5L8eHXTI/PcUWUqN3tx+uxyRk2i2RpG4xgBc1yOEtTFBausXgPLnV3EqTbiJzOkumwSMjos0UGH+k1J2iOAYnNf9rOg1oZ1tbYKBZZtj1KRoS2dIpMOk4qAqqqEag6CAWzWsKcvUmlscTV2EHmDo9y7vwBPjray6F0Eosk0XSe9sE2OsMq5uotFq7/ma//8x6fXA6Ys4Zof/cw/+fbA4yokNoqxyJrt79h7Ootbswvc+MLmzU/yl+9aZE7lqKndddsrBDMfc3013/iDx9f5ZP7sJx9k4EP3+fM+T4ORyAX1qEwgTN2i6/Hpvnj9WVmC3UqGzniMdB1lSeHckSzG0pRmt1ximi2EraPC1Uf4z68wMQXn/Lvf7jLhZkold5THH3/Pc6daGPYhAQNYIHS43nu/N5h+doN1owGc8NpMkd6yR7+B45lRsgN3+b4lRv89rNJPh1XqbQfYegX7/LuuyMczkBeM9FSXSTynXTlIaWDH4ATNMupbJZTEQKFbeM97josXOHxpT/x6e+u88Vtn5nYIbJvvMkHZw5wLAMdrc8GDapjn/Lwq0+4PvYVDz5eYHGpytIvf40dyXAubtDLtm4yVQPdRAtcYuvzeKsNxqfXqAyOMnL6JMff7uWd/jjtIRBWqd36Vx588xlfz4/z4M4VLsX76IwdYyjTQcKU0adFBh/p9RRCGCogdFTdwozGifF05oIS3twDFr65y907KzwoxqnlB8j3dXGo26DDBF0IfNVE6FEsD+LrGyh2ikayA//Ae/S8+Qa/+WiQs+ltN2s8wuokpfErTH7xObcuN7hbfpvIsb/h/N+9xf/1fpYDT5TDh6NxJiLz/PMnE/z3iXt8GYyQTHTw1sEYHXENjQZO8RGFm19z78JFvrpV5744T/vhv+Odv/4Nf/9RB4eVzSBQvoxzU8Ez13nwuEBhwaPm+oRhSABPznRTdVQjhhmNE49FUSIGlq6hqa2utBqNlQmWrn7JrQtX+Xpc42HiFIdO/lc++odf8Zs3EgwDJiGwQP3xGD3r97nj1/G0EIOQMJIn2penvW+Egf4ER9QyU+MFvpnR8XKj9J75iLf//izv5KBrh6q0hYKvRNCsOLFYjHjUJGpo6GprIN/BK89QunOJ+59/wcWLRS42TpIc/oCPfvnX/OOvBzkWg8zWFgO8hxqTXXNY/9+XLP7xOg+W4gSRPvKHR2nvzJGPQitOCEVDMaLohkGUkKjv4RKhnjhIdOg9Tn9wjN+cSJFtleVgmQfJGezfPWT80RgPtNvc6c9z/kgbHaZGBDnNGGTwkV5LIWGrxYNAKCqKpvFkmkwfwikWb1/j0ie3+eZGncf2ELH+M4yM9HG8F7o10AlwggA/FPgu+HaSaOIwA2fO8vZ/OcPbp/s59ETgAajiVaeYvnOXu9/MsLTRT+LYGYZ/+TanT2SeCjwAKhwYYfjMYU49LNH+sM702BzzI8vM1Ts4TJwkRSorE0xevc/d62ssOYeInnqH0Tff4txIK/AAWJA4jHEUztZ9QlsjpY5z4Z7GRhjScP2n0gyJ5nRsoWy+iKoghIoigs19WqL4eIyxb8a4d7fKmnqK9Mn3OHr+HOcPJhii1UIQQDeRbp1jv8qQHqjgJDMkOhLktj4ThahF1NIxNBVFKAjFQDOjWDGIPbc2W63XZhkVIRBCRQixWacb1NYneXjjHneuLDFf7kIbPc+hN97i7OG+pwIPgII2cIyDfMiJqXUmblxjY3aG6tQUU9PrzB3Mcbgbkq2532EAgU8gTFzDRG8/QW7oXd761Zv85oMRzg62Ag+AgdY7wMFDw/S3rRO7s87CzEPm5o4yXRzhQE6jS7DDJImfHxl8pNdMM6eZogaoWo3AX6KyPMbU9STXnBzLgEkALNFYvcqNC3f57LbDpHeI/ND7HHnjbd460sPhNsgKEKGPH3j4QYgjDFyrl0TfeQ6/c4a//nCA83ntqVlSLrBGrTzLzNQiE5NV1hSFaNYnaS5QmlzmfkJ5KhCGUJ0iWAtYc3UolaE6S/HxMrPlBhthlHi4RmVlikfjCzxaUPA6hxg4d56TpwYZyrQCT0sbZE5x6HSDPr9CfbXM2HyV9SDEdn2C73x3qXn8hAgAD/wF1hemGB9fYXrVQhs9yuAb5zh5vIcD8Z1y4OXJn8uSPRUQCoHQ1FaWOQhLUKlRqjs0XJ8gEAS+jVuvUCtD2WLHGWcCnu0qRAEBKh5QoLY2xcOJeR7MhDRSB+k7+yanzo8y2qE+FXg2qd3oB99j4NQCpw8vsFapca+yxMLjNR4vD1DPb3vxKPQhcPGFiW1l0bJn6Tn3Hh/91Qn+5lSOjifuoj6ocYxUH+nkIxLKBkp1jfLGBmtVnyLszgu9+4AMPtJrRgVUVN3DiKzhLd5m8e46F/6f60y3RUgAKiGwgVt9zPSEw30Okzh9kr96510++OUxTh/M0NGaHRX4zSUZQvBNkyCbw+jqoa2nncG8Sad4ugvFBr+EV1mnVLVZKDV4HMwS3Ps9jnuHlajD54GH//RUa9bQKjMs3J9nYtanGqaplIusllxKgUuHu0GjuMpKscSqrUCijbbuHro7ddLP5qQBEiipDFZbklzCwtQaAPjBd7xe2rrLKwoiDIAGNApU11dYXK9S8DKomTztPT105QXJ5z2+qyqqusNyDL4Hvo/nBwRh2MwwFwaEgY/vgUezS/B7R0U2ywig4EK4gb2+wnKhyHIDvO4suZ4eursiZJ+bHykO9JJu76G7J07u4RKeX2RxbZ3l9ToN9+lXXkNCFHxFR1gprHSWtnySvPZ0/fvNTA56BF030QgQnoPnetheiMtT3Z4/YzL4SK+ZzZaPEqAZFQKvRHWhwHjtAfOmikbr5uYRCh07eQrn3C848d7b/Lf3D/LucIpYRP02x1gQELZu2JYOmSgibaHrCpoN6jOP/j74dcKajYugpoasV5epjl+k8NjikRqgB8GzL5kKHyVwcBsudiJOPhGlJ28RDVX80Ma3q7i1OrXAp2FaqDGDWMT4dibcM1ywG1B3qDt+M+gozRxv338IBQQhzeBTw6k1qBHgWBp61CRmGpja5kde1fj55n4IHKCGV61T9z3qhooSNYhZZvPYfGf5dFTFJJIyMDLgBA0a9Qrlag3X+7YN1jxmrQkrAaHv4NsNGnWbOvpTrc4QfB88D98PCIUCqoaqKmiK2JziLoEMPtJrZzN/WSgIPAuhmkQy7XQdzNGRMonQTLwDCsJIovWdJ3LiPX5x7ghvHzVpe/qBfXsXlaqApSEsFUUArg/W01/wIXQJGzau5+CqCkQTRPMD5DtztEUDEsoOT79CA1VHN3QsI0E8NczA+QGOZC2SwkZx63i2ix0GeLqCMDQMTUVT2GGpCAAXXJfA9XA3WxrwA258YQh44Dr4rosjQnxdwTDUrd/dG5mHfMAhcFzcMMDTRPPY6Cr6947qqwihoUUUtCj4NY+662A7DsGOCwWFiDCEwCPwXFzHw9nxY5tjRGFAiNiaSag800r+eZPBR3rN+DSzWms49RyaMUj+yDne/z9O8vZwlg5ag98KQjVQE+1ouQ66cjsEHnj2bh1CGIRbixI8+/DfnBIcEhI4DRRFJZ49RO6t/8aZd09xtifkoLlDbjWhgqKhaiqmrmMYCWKZLPF0hJRSQQt9QtHM0iZCIAgJwpDn96I1JxI0B+d/xLP25tN+axq2SitB6be/uzee4DcfJLamX4cQbK5c+2TzcgchIQGhHzaDTShQNwPFjzlk0g8jg4/0mmmm1Ak8BddJoOgDpHrPcfSDX/LLI0kGftKmmze2Vldca9ryk/cpFRQTYepooY/pCSJ6nsyBtxj64C0+HIGhH/zDAgwNxTIxhIbhhtRsj4bj4QRPD8a3WGBZEDGI6CqaIjZ34QVGHLZ2ygDTQrdMIqjoTojb8Gm4Hm4Ayg++QYebxy4gCMBHIRAqQhEoyg8MZlu7oQEWasTEUnRM1yG0m2V8/rFp8QlDD6fi4G34aIpGVI8QsSx2GrKS/rJkK1B6DW2faq2gqBqabuxS1mQNlBhqMkk8EiUlFIyGQ71ap9xoDqr/cCZYCYxEgqRpEfcDwkqNUqlMqdrs/fs+LzTIvdmyIdwcqyACkQRWIknKMIh5Hl6lwkapTLnWfPnzJ9kq1LcvAL9QANosI0CAASKBnkySjERIhiGiVqO0UWajAvZzD7gHlLHrJTZWbaoFFTOM05ZIkklGMbadLC8UsKUfTAYf6TW0mdVatLJa12hUy1Rg5z76vygdlBR6qpuu3k7623ViziLL965z5/IUdx+B/dzvVqC6xOLjBcamC0yt1ii7IWCBmSeW6aAzb9FmFPFXHzJ/f4zJh0UWKk8HtQY0pig+muDenWnuzhUo1h1CIdC0pzMc7CAMQCg01wRqJ5HJ05nTSCsFGo8nmL0/zsPpGsuNnYKaTWNphdWxxyw9WqVQcaixmdRTqKDrKLqCpngYQR3VswkCBV+B72psPPM7W8FHB9JY6Q7a22LkrTJhYYqFsbs8eLDM/EZz8vuzVmHjFosT97j/oMrseho90cWB/hz9eYuoXN/hpZPBR3qNtSYfBAS+vzka9LKpQAozcYDB0UMcPZ6kPbJE8e5X3LpwkatjK0yEO7WAylC9wdrtj/n3337M//2/rvLP3yzwsOQ2n+7pIJHtpXcgQWd+A7F2k7lvvuTWlTHuLIUsPbGtWZj7kltf/JH/8dvL/Mf1GeY2qoSimdtNfOdV31wJNgwVml1a3STbuukdtGhPreDNX+bRxa+4eeMh9wqw9sR3XXBmmPn8Ehf/++d8+a+3uTO3wTKbAVdoEI2hxi2ipksqXMdqFHHrIXXv+RMYttbBe+L/8Tc7WBUgQzTZR9dAiu7OMtrGHR5fvsDNi7e4NddgfqeNVibZuPkJYxcvcXnCYdI/gNU3zJFjeUY6FBJPtHy+63hJP5Yc85FeL2HYnGnkuXiOi+N4uF6A/1MWUAt9Qt/Fcx0c18X1ArzgedtTgCh6pJ+uI6c4ujLP2MZtJu9OsHLnT9y4ZNGRe4tyv6CfbRdgdRweX+XmzVm+uGlxH8HJeBtnnIAQA8gQSx+g+/gow9MPGNhYY332AnPfZPi6TyFm9XMsCvmwBIXrVG9f4eqNe3wxtsDEapla3SLu+ejhZq/VU/vmb+6b4/l4gU8QtjrBcsTzB+k9Ocrw7AJ3v5lh/MGnPLwY54tegRa0cdiCJA1gnvVH41z6bIaxqwr6MYUjbx0iy2awVUyI5NCz3XS0RxhMzNGoP6Q0dY/7N/roqIFIKOiaiWZGsEwdU21ObxahR+A5uK6L43q4vk+wtSJrHDMxQMfhUYbO3mOoVGa9cI21G11cHjRIxUYoZrel7vFrVO5dYuLL61y9X2ReP4g5dJ6hM0c4NZLmUBpi25thYXNZjubvOziuvzmD8HndmcHWOeg6Lk7YOgflOz7byeAjvV5Cn9Bv4DWq1Cou5XKdat3F8XfIa/ZC2wsJPQfPrmDXylQqNdyaQ8Nt3kx2piD0LFrfGfre9nmnqlMPb3Np4SvmLqzy/85/w/V2QTvbLkC7DHaNghNlXc8x0N/OSFectNFK3aOipwbJn/g1x+uC1cYFxI3bTI55XPynGRbutDNoQToE3DrUNli3s2QOOQwpOvP3FbxyjaDSwPGbXVEBoPouvl2hUatQrdSo1prvBbl+SIBAQcVsG6Hz3N9yuqGz7l5AH7vE7M06f3InmfkmTb8BMRzCcIVacYOF8Q782AkOdeWJxS1iW/upg96J0X6UgYM9HOu7TmHqOjMX/ycfr48z1wUXkjEi3UfpGD7DsZE+DucgRYAe1HAbFaqVCuVIc4E4128FHwU13kP26C854ipU1Kskbi5xb+0P3PnPOZbGermYhFzrWAc29bkJ5uYcVv0TtL3/Lgff+gVvv32IE/kIefXJG2MY+s3F5OplahWLsmhQtX0cf6cHkLCZEcG3cRs1qpUK1bBOtdE8B/0fcw6+pmTwkV4vqo5ixDETaZJZl5yRJJ20iOrNF0x/cD+zoqAYUYxYhniqTtZJ4aYiJCwNXdlpFc3W9wxID5M8nOVcaJC2AlJf3+R3E1e488ldHpvNKd9b3xdtkBqh7ego5988zXtvHeJkW5z2pPFtmeOdxA79mpFIF5pQSUb+jT/dneLq3Q2uTpiMKaCLNMSGSQ4M8Nb5w/zde+vU7jzgG1aYcxJkdJWIyuZicgKhR9BjGeKpDTK1FGYyQjKio4twq2wiOUDqyN9z3MxjKgHJ2Cd8NjHBrWurXLyjc0sBDZ8wdFCsNImDRxl9420OvtPHUE9y2/R2Hchj5o4xePQUp2dusGwvsrR0henVCdZMuBrLEjvmMBIOYnb20Z+BnG4RiaeJJnOkMxlyqRipmIGpbTv+Vo7o4IccSg6SS/cx0P0JH1+Z5JOpz7k1ZvFQ25ZPLQTfy1JPnuDA6fN88Ks3+fCdYQ7n4mTUZ1MGKaqBFkkSSeZIZTLk4nHSMYOI/nSaJAClWfdGDCuRIp0NyIRJ0gmLqK6gy3d9tsjgI71ekp1Ees8wcM7iQ9+jo3GA3NmDHOtI0cZOuci+hx4n3nWUrpN/yzmtgFcaxe8Z5o2DOTriTycUfYqIIeIxMuc+4nwC9EyOoG2exGQDN3hqjEPrh/azDJ55i1++d5RfjZjPJtoUOiLaSXKok9NGnVRCIdq3RGrSZba82a0jcpA+RvrISc6+28GHwzW8oUf0xBeY2kiSOtnPaBbaABMBHYdpP/7XnAmXaawP43SNcGaoja64+u2+qRZKvJfsyQxvmnUS6Qix62Uy0y5LFR8v2HyZUqhYuR763n2D0x+d4vxhwZD29E1Gh8Qg3Sd+QeCVcbOPMCYcHhRc3AB8M0OkM09nNk4mBjELyPaRGf4FR0rt/Ka/jeOJkxw63smBbIyt7DlCBaudaHc70VyUjrYIWu4q4dVl7jx+Np2RsEZRBt7m9Htv8ptfD/JulufSMt1kh95nuJbiV50JDlpn6D3RzVA+sUMuOgPi3dB9igPnNf6KCgfDPnrPHeBYe5R2fsQ5+JoSAOE+nUsYhhflclkAACAASURBVCGu25zLYhgyT+x+5Hkevu+jadrO+cB+MBuqS5RWijxeCSj6Caxcls7+DDmTHzfdur5IvfCY5aLNipMiiHaQb0/TnVFfcGnkAJxZ6guPmZwvMldw8Z4OPkoKYp2ku7oZHkzQ9X13qGAFf3GC+cUyc2suxXqw2aUTAasDs62DocE4g1mfsFRieabCRkNDa2sj3ZsmrW0eC3sZpzDPYqHBipPEj3SQy6fpzmnsmDLOmcNefMjcQpXpVZv1ik3DdRGKiq6bRFM5Uv3DdAx00xl5OuHpNl4Bf22KpeV1Hq/ZrFU9PB981UTL9JDqHKSnK05PBPSwAuuzrKwWWaha1PR2krkc3XmL9I6Pzw5Up1l/vMDDx2WWS80lxrenM0LPo6Z76ezrZqhX2ba20g7COsH6DOuFAgtlg4qWJ5Zpo7s9Sm7H204damsUl4rMrrqUiRHLt9PRnSZr7I2M1kEQ4HnNaS/q83LxvURCbL76vJ+CTxAEVCoVCoUCxWKRWq2Gpmkkk0kSiQSapsl5+Xuc7/s4jkO1WqVWq+H7PtFolHQ6jWmaCCF+Qh22lggQKIporkkTNt94D3/sgK9QNtP5gyKaI/Zh8F0DztvLwuZSBdu76MLWf57zrVZZw2dnWonWMhFi8+2YzQ/sOKFiM/+ZEJvTq5vlDjcnS4TP27ew+RLokysvNJc0UJRm3XiuS71ep1Iu07BtDMMgkUiQSCRRVYUwDAjDcOu3ni6XUJStcomtJKOt32yVo/XvzUSiytbnm9sOntn2ZjaH1ue2Dve32SiePI5bH2iWNXxevbQWsnvy98PnZpjYLIOymWGilXUh/Ann4F9AGIZ4ntest0oF27YxTZN8Pk8+n8eydq9NJoQQ+67bzXVd5ubmuHHjBpOTk5RKJaLRKJ2dnbS3t2NZFkEQyAC0BymKQhiG2LZNqVSiUCiwvr5OGIZks1m6urpIpVIIIfD9HzkpWmigGZs50kAXPr7j4NS/HfD9gRtEaGZzQTpdwVA88G0c28V2A7wXOc0UHaGZGLqOqSvo2g5jRa20/a5Dw/Zw3OD5ZRUKQrPQDAtDVzBUULfWxQ4gdAk8D9sJcLzmsga6qaIqAYHt4NkOrr857Vy1UI1v9034Nq7j0XD8Z/ZNqBqqHgVFxbVr1MrrFNbWqNfrW9dgvi2HJgLseo2G4+M+HcS2H1PDwtA1DBW0rTWrA0LPxnNsHMfD9iFQdIRuYeo6phagBjae69KwfdwdAhCqjqKZGIaOpQk09emj3ZoU4OK6Drbt4Xjh83PVKRqKHkHf/H0tdDbr6TmTDjbz9BmmTsRQUPGa52DDwfF3Y7r/U8XZfPjxPI9arcb6+jrLy8vUajXy+TynTp3CNM1dDT6wz8Z8wjCkXq8zMzPDlStXuHr1KsVikVQqRX9/P319fcRiMXzf//E3L+mlEEKgqipBEFCr1VhbW2NpaYnV1VUAOjo6GBwcJJfLbV0oP+oBYtvCaE+0fPxwM43/D95gc3vK9tZBK3fYDi2THTehPFGmndPSbG917PRUv9M+Ks2na7ankWltp7WN7a0vNvOeBd8+gQuludjetn0Lg7A5Nf2pAiiqiqpqOK5HaaPI6soyS0tL1Go1kskk/f399Pb0YFkmruPget5znvRbLZ/W4nDbyr95DMJwewqjbfu61fLYbJ09U6ffLo6ntFoeOx3vcDMNU9BsnX3nuSF2+v3N47vT94SylVevdQ62Wpw/7hz8aVpLjzuOQ6lUYnl5mdnZWarVKgMDA1iWRW9vL5lMBl3fvbdr91Xw2d7ltrS0xPz8PMVikXq9jmmaW03/1jiCtHdsDz7VapXV1VUWFxdZWVnZahFFIhF830dRFFzXla3XPaZ1E7Ntm/X1dZaWllhcXKRer5NMJlE219iJRqO4riuvwT1ie/DZ2NhgcXGRhYUFKpUKhmGwtLREoVCgXq+jqupWPb5s+yr4tPoshRBEIhGSySRhGJJMJkmn02SzWeLxuGz57EHbg49pmvi+T71ex7ZthBCkUimy2SzZbPantXykl2Z78AGwbXtrzDWVSm1dg5FIRD4A7iHbg4+iKDQaDcrlMqqqEolEUBQFz/N2/YFvXwUfANM0yWQy9PT0sLq6SjQaJZfLMTQ0xJEjR4jH4wSbXQvS3tJq4ZRKJebn59E0bTN9vWBwcJCjR4/S2dn508Z8pJemNXZg2zbLy8vEYjGEEJRKJfL5PCMjI4yOjmKaprwG95BWvbmuy+rqKrFYcxL/+vo67e3t5HI5UqkUqqr+uOU3fqR9FXxUVSWRSNDZ2cnAwACFQgFd18nn84yOjnL+/HlisZh8Yt6jWrPYWuN0vu/juu5W8Dl16hT9/f2AzCS8V7WCz+zsLLquU6/XsSyL7u5ujhw5wrlz59B1XdbfHtPqTZifn8cwDOzNGYrt7e10d3fT2dlJNBqVwed5hBBbU3Lb2trIZrPU63XS6TSdnZ0MDg5imi/25oX06qRSKer1OgsLCywvLyOEIJ/P09fXR29v76sunvQ9Wi2atbU10uk0nueRyWTo7u7mwIEDr7h00ndRFIVCocDc3Bz1ep1UKkUmkyGTyez6u5L7KvgAmzOGmn2YrcExRVHQNG1XZ2pIP56u60/UXWs8SNP23en4s9S63rbX4at4UVH64TRNe6buWn+7bd+lGQqCAN/38Txva1Cz9dJiayBU2tts28Z13Sfqz3VdHOflr7Yj/XStumrNaGtdj67rynGePSwMQxzHwXGcJ669VzVBa98FH2Dr7eKn/+SJvz8EW++ayPrbj76r/mQd7l3Pq7et7A67bF8GH0mSJGl/k8FHkiRJ2nUy+EiSJEm7TgYfSZIkadfJ4CNJkiTtOhl8JEmSpF0ng48kSZK062TwkSRJknadDD6SJEnSrpPBR5IkSdp1MvhIkiRJu04GH0mSJGnXyRz2kvST1KG6zMZagcerVQoVnyCEZnpNAUJDjWVRMx20tWXoS4L1ikssPc0Dp0B5qcDyusNGYEE8QyqTIB83SJryGf1lkMFHkn6K2gzegy+4e+U6f7i2xJ15By+AZoJ6BYSJ1nUC/egHnDt3kv96PMVo4hWXWXrKIuHjq9z74xUu3Chyz++BkXOcPHOMXx3OcTwvg8/LIIOPJP1gIQQNgtoq1ftfMfH17/n8q1t8fLfGRFHDVFsXVgChhzO5Sm3aZ7nokw6OkDndRtxSicq1116d0AF7g3p1nvLaHR5++Rmf/K8L/PbrDa5ppxDvpSim+jjam+Z4Xi5S+TLI4CNJP5TfgNIYxcmrXPvkEz67cI+LCyrF9AkGjvYwkIAMABXw5pmf2ODe+Oc8Km7wr3YVR5zj/KF2znUoyPjzilSmKE98zv17N7h29yGXL9/h+jfTXFsHT+mDQo21iofj7f46Nz8XMvhI0g/VWMWb+Ybpr/7AZ5/e4XfjEQpd5zn2q9/w4S+PcqoNugEogH2be//2Ry78800ujG9wSRgUY2lcxWQwlSZvCcQr3p2fjxACn8CpsjF+kfEL/5MLX9/m0zGXmwtVqjUIUaEtBnGDiKagKbJ2XhYZfCTphQVADbsyxdKtq9z74jo3xj1m9dPkj/6ac+99xF9/kGWU7RdWB12lAqmZGUrFJR48us2Vr/vp60hxfjCG0WmQANkC2g1+HdYfsj5zj2sf/5ZP/3CJizMe08YBRJ9FX/si3mqJ1bRGKSIDz8smg48kvTAPKFArTjJ56wF3b5VYdQ+ROv02x94+x+mDWQ7y9EXVTXroBKc/mmGyeIWrF5e4/+AWU2M93Dk3QK7DwBQQeSX78zPj1WB9jOL9P3Hzyl3+PBFlLnWczg/fZbRfkJ/+guWrN7liN3CFhxeC7HV7eWTwkaQX5kFYpF6cZ252kZklHzvbRcfocUaO9jOY3SmIRKFtkNzpI4xOzDB05wGLhQeU5ueZXnNZsaHLhIh8yH75hAAEKDpGZpDs6BkSQ+9w+m/Pc7ZzFeOrcW5Nq4wvuej4+CEEMvi8NDL4SNILc8At4ZbWKVYqFP0QPxonmc2QzahEzed8zUhAJkc8G6HdKpN1FxHlIsUNn40auAbIgZ9doEYge5jMMYs34hXay0lE+yB9R/J0eCUKmse4CJvvaYXNqCNjz8sjg48kvajQhloJt1il5Ao2zDhBIk4ibpA0QX1uANHBiKNGo2QjIW1KlWq9QnWjwUYZnAQy18huUCOQHSWTHubcYTiLglBUFLVGY7pGsV7Ddn2cQOCHzcqUzwQvjww+kvSi/DpUijgbVQp1g1U1RhjPEE8ZpOJgPHfWgAnRJGYyQdbSSQcO1WqZUrHERiXA9RSQr5LsAgFCRagq2hN1pWIKHxFsz04hvWzyeUuSXpTvQK2CW7UpNSyKZHHMJFZMI26B/tzgo4MZRY/GiRkRIgGE9QbVapVaPcSTd7tXzMcNIEC2dnaTDD6S9KKCADyXwPVxfBUbi0A1UHWBrn3XxaSA0FA0DV1RUYHQ83FdB9dvblZ6lQL8UI7v7DYZfCTpRYnN/xICIUAQQhgS/oAbV/jthhCb25GP2tLPkQw+kvSiwm//4dtg8xMzFITIR27pZ0kGH0n6wbaHm/BHxA4ZbSRJBh9JelGKCoaJaqhYmkuEKqrXwHMCHBf858aUZnbrwHNxAw9XgNB1DMPE0EGRV6H0MyRPe0l6UZoJsQR63CJtNciGaxiNDRoVj3INHP95X3TBruFWq5SdBjVFIKIR4okE8YjyHbPkJOn1JYOPJL0oJQLxNEYmTjbi0RasY1SLlDccilVwnztrrQobK1QLq6xUbArCJIwnSKXjpBICQ75tJ/0MyeAjSS9KmBBJYqQSpEyVtOugVGpUKg7lxnd0uzXKBGvzbCwtsbDhsRIk8KJJoimTZAJ0eRVKP0PytJekF6aDmkBPZEgn4qS1AKW6QXF5keWVBhu1nb7jQ3GJ4uQkc4+WmS1HWLe60TJttKU10hEw5FX4iqmoqoKqCBTRnAKPaKXekX2iL4s87SXphWkgsliJbjo6E+TTJURxgse3rnD/1iMmV2Hjme9UCJcmmbl0i1vXlhgrZym1HybT38ehvE6HAcYr2BNpuwhWIkrM0jA1BVVREbqFFokTi8u8Ry+LDD6S9MI0IIMV76fzUCf9hyAtZqje+5Lxixe5Nv6YezaUtj7vAA95/Gic29cec29KpRA7ROLISYZHBzjWZtKOTOv26gWEtovj+nh+gB8EhL6H7zo4zqsu2+tLDnVK0gsTgIUe6yN/5Dyjy485VR5n48E11m5FuNRWJ6yO8CAHXQCsg3OP8a8ecG0pTSE3woHj73L0/eO8ebiDAwmN+KvdoZ+XwIHaKtXiCiuFDRY3XKoOQJ3G42+Yuj7FjZk1FtYt1vVrzFyx+LPoQukzAR3VSJLIt5PtzJFJGsQVeQP9KeSxk6QfSI3mSQ7/khERp+79G7p2gYtznzPzxwXmb7fzdQxSANTAX6NQTdFIvUHu9Bu89/ZJ3n1rkCM9MZKyv213eXVYvUvh3tdcujbGZ2Ml5ooALm55gY3pCR7Pu8zbM1D5lMniBP9yJ87VpAYkMJOjHHr3HU7/4jwnYgYDMvj8JPLYSdIPZcQxOs7SHe/DUkISRgnr6xk+nVri0aNVZhWYByAAoaIMnqTr/G849+57/M2pLG92a2iqTOm260IPGkWc9RlWZseYHFtncg0gJAwCwqAN2gP6EITCR9izFGcEZUUBMkSyEdQDR+ip+tRCeO5rXdILkcFHkn4MoaHEu2g7+iEnlADRMUNqymZq3cMLWjcmBRQLa/AMXafPcvp4Oyc74XkLnkovmWJAoptY7xkOnk7zbqrKwVIICIRqoJoWhqFhigDVt/Fcm7oTYPsAcczEIH1HejiUMcjIJZh+Mhl8JOmnSA2TPtHG6QN1DtZ86m5AEG7PXq2gRpOYyQzJeKs7TnoltCi0HSMbG+DNQ3UO1/1vs1KI5rRqRVVQCRGhTxj4eH64+f6WiqJGMBNxYskIUVU+RPxUMvhI0k8hLESsi0QMEq+6LNJ3EyqYKQwzRS4NuVddnp85OdVakiRJ2nUy+EiSJEm7TgYfSZIkadfJ4CNJkiTtOhl8JEmSpF0ng48kSZK062TwkSRJknadDD6SJEnSrpPBR5IkSdp1MvhIkiRJu04GH0mSJGnXyeAjSZIk7bp9GXyEECiK8sSfqqqoqvqqiya9gFZdKYqCEGKrPmX97Q/b669Vh6360zSZq3ivatXb03XX+ttt++5M2X6ib//TdR3TlEnO9wPTNNF1HU3TUFUVIQSapmEYcmnP/aBVV7quP3MNSnubYRhomrZ17W1/CNxt+y74hGGI7/u4rovjOFt/9XqdarVKLBZ71UWUvke1WqVer2PbNp7nIYTAtm1qtRphGL7q4knfo1VXjUYDx3HwPG/rGnRdV7Z+9ijf97fqzbbtrbrzfZ8gCHa9PPvuLAmCgGq1yurqKqurq6yvr6OqKrOzs4yNjRGLxQjDUN7E9qDW01WxWGR6epqlpSXW19cRQrC4uMjk5CS2bSOEeCUXg/TdWvVn2zbz8/PMz8+ztrZGsVgkEokwPT1NNptF13V5De4hrXrzPI+FhQXm5uZYXl5mfX2daDRKtVql0WgQjUZ3tVz7Lvi4rkuxWGR+fp7Z2VnW1tawbZt4PE4QBFv/6/tyhfW9pNVdGoYh5XKZhYWFrQAkhMA0TSKRCAsLCwgh8H1f3rz2mFb3jG3brK6uMjs7y8LCAuVyGd/3icfjuK6LZVn4vi+vwT2iVW+u67K2tsbs7Cyzs7MUi0VM06RQKFAul0mn0yjK7k0D2FfBJwxDqtUqhUKBxcVFlpeXKRaL+L5PJBLB930SicRWU1LaO4QQqKpKEATUajUKhQJLS0sUCoUnxnxa/+55ngw+e0xrkNq2bTY2NlhZWWF1dZV6vY7v+1iWheM4RKNRXNeV1+Ae0ao3x3Eol8ssLS2xvLxMtVolmUyytrZGoVCgo6MD0zR3bfxnXwUf3/e3xnYajcbWCd7qc240Gui6LoPPHrQ9+LT6nFv113oqazQaNBoNGXz2qO3BZ/uYQevPtm0ajQaKosjgs4dsDz6t+2arzhzHoVKpUCqVqNfrGIYhg8/zhGGIYRgkk0lSqRRhGJJOp+no6KC/v192u+1R24NPpVLBNM2tiSNCCHK5HD09PbS3twPIbrc9aHvwWVtbQwiB4zhomkY6naazs5OBgQHZ7bbHbA8+rTHWer2OqqpEIhFM09y6NnfzmttXwUcIQTQaJZ/P09fXx9raGqZp0tbWxvDwMCdPntyacCAHrPeW1rsEYRhSKpWYmZlBVVXCMEQIweDgICdPnqS7u3trwoEMPntLqw5t22ZxcZFoNIrv+2xsbNDR0cHhw4c5duwYpmkSBIG8BveIVr15nsfS0hKxWIwgCFhdXSWfz5PP58nlcrva6oF9FnwURSGZTNLe3k5vby8rKysIIWhvb2doaIjTp09vTbWWN669p3ViFwoFLMuiVqtRrVYRQtDf38+xY8cYHBwEZP3tRdtnu01PTxMEAaVSCV3X6erqYmRkhLNnz25NtZZ1uDdsn+02OzsLQLlcRghBPp+nq6uLzs5OotGonHDwPEIIDMMgFouRSCSIx+NEo1FisRiZTIb29vZdPXjSj6NpGqurqyQSCaLRKEIIkskkbW1tJBKJV1086XskEgmq1SqpVIpoNEqtViMej5PJZMhkMq+6eNJ3qNfrpNPprXtn6/4Zi8V2PcPIvrxTt94haP21mviyj3l/aL3UtlMdSvtDq75k/e0vT9fb9r/dtu+CTyvItGZrtAY2XdfFdd1XXTzpBbTqanv9tWbeSHtfK6vI9vprXYPyAXDvCoIAx3GeufZe1eSQfRd8vovsY94fZD3tb99Vf7Ju9669VjevVfCRJEmS9gcZfCRJkqRd9wKz3QIIPXzXxbFdHMfDC+HlNeBUQEMzDUxLR//f7L3nd1xXeq/57JMq5yoAhUIOJEiAEQwSlbvb3W67fa+Xlz1rvszfN2vW3PG64/F1u1ut0JRIMWeQBAEQOaeqQqWT50MBEEiBEtkGRQB9HgmkROKcOjg7/Pa737BVCRn4+Qt+e3h4eHi8LV5DfKpgLlKafM7TB895OrzIvOmgv5XHkYA4QsrRcryHvgsddLVGSQJbJ714IuTh4eFx8HkN8dHBWqA8f5+Ra9f46sthnlQtNt7a4zQjySc59bcqdDWQaI0SxRMfDw8Pj8PEa4iPAKEiaSH8kTixVJpkzeLtnBmqAAmEHCEW8RFQJRReFJz9Fa/h4eHh4fGX8BriEwC1lUibyslfdZI4lmfdcnitjJrNsg6vb60IIAQiRbo1S64pTBrwDuf18PDwOFy8hvj4QWki1NzEkWY48vaf6UfxLB8PDw+Pg48Xau3h4eHh8bPzFguLWriVGrpuoNt2PTxbkkBICNcBx8ZxXVxXgCQjyQJJAK7AsWUUTUMLqqiq/AO/j4eHh4fHweYtiI8LrFIce8rE9aeMji8wbdTIOy627ANZQXJMMKtYlo3pKgjFh+ZXUBUJzBC20UTz8V76LnXR3REnDdsBDp4IeXh4eBx89lh8XGANR3/E1O0vuPp/fc23D2Z4KsmsC4EABO5mIILYjEdwcR0HxwEXDUlqQfGd5kwtiHysmXQH7CzSfjjFx8a1HWzbwXk5gVdICElGkiVkcVh//p8Z18Fx7O1+98NazAKEQJLE5vuu91F3t+RqUbfmJUlCljat963vB74vpyUhhOD1TvxwwXU3dwbqzyOk+oFgXvv/CK6Ly0sVmx1393bbQgiEkBGyhCy+bz92Vlzfvo+7a/sLISFJMrLsjc83YW/FxzaxC2OsTn3J0NXPuXz5Ot/mYSHWjhILEq3Oo5bymL4ETrqLeDJMWlrBXJxharzIEmG0UCMtA3GC2SjhoIKfQx5qXZtAnxtleHyB4dkKhaqD7YKLACSEL4ba0EWorZuBtgT9sXf9wAcdA7M0z/r4M+bGJ5letVg2YLuetpBBUpBVFb8mo8kuWCaGbmCa9e3jbbESKkSyiIYuOtvbGGgO0uwvQWme/PwU4wtrTK+C4fiBDPHGLG19GbINQSK8YqJyqlBbprq8xNhUnqm8jB1O09DRSktznIQPgm//JR08rDJucY788gzTS2tMrVQpVUyMmoVh2tjsPneISCOh7BGybV10ZwO0+m1kYxFjZZrphUUml8ssFwxM3cTQrRfbHwkhh1G0RqKZdrpO5OhqDeCdaPR67Kn4uHqR8uR9Jq/8iQd3HvN4A9ZirWQu/R3duTDZ2W+RZp5QjA5gnfzv9A60cNI3jPHgCt/+r1FuT4RRjpzk5N+/x/lPj3D0sIdaG8swdYPJW1/y1dVh/vioxHKpvrqqDxSBCDQgdXxIbNDiv13qJ3UiQlPg3T72wcbE3Jhk6dEX3P/6G64P6wyVobz995s+SElGUSQUyQXHxrLsH1qmUhCaziAGfskvPs6QjgVpVoqweo/F219y+cZTvnxsk9cTwDE6zr7Hx/88yPsNQTp5hYg4ZSiNUHp6m2t/GuWLUY1a7hSDv/XzcSJOnyc+u2MUcRbvsXjvG769NcKXT4osFm1s08ayd46pF5GaT5I+/XcMftiMGg3QrFrIpXGqI1/x8Lu7/OHBMkNzJrZlY1kv70wIhBRHyD00dFzkg39+j08a++jXwFsj/jR7JD4uYGBV51gevs/I1cdMzLpUW/povfBrTv/mHxhMVojfmaWorjKXPIp98Tec+aSPz2LDKB1hGsoBIncNFjozpLoyhBpiRHzqD1aIh8LycSpQW6Mwfoep777kypVr/PlpnqF8CKFphCVQcIAqZn6D/D3B6IpDqFwh7h7nwpE0zRGF8IE6h3b/UN+OcXC2zzKB7dNMXB30AuVCkYWVCnlTAV+MaEOSRCxAWNmxGHJtcByE49S3ZgDMMm5+gvzz6zy9eZevvoMSMjDB47zAPdZM7EQr8QgEd9uCc3WoLaDPDzF65y6X7/ip9AZRT57lqAEdb//1HEzsCm5hnPzYLYa+e8zluxYrxEg0RUnG/QSoV418Gde2cRx3W1Rc14LKPNXZB4zf+Y6r3xR4sBoi1BAjnQkRlsWOxbCBWVhnY3GRxed5zJCBHZGoHc3S3xwitZkk77E7e/RubGADvTLJwvNJJoYNNpwe0mf/gZ7f/YZP3zvG8dp9as8thjW3vkfqC6KEFXyJHhqOLvDe++MU7ed8UZ5nbHgMfyJC6+lGWpqDb6mawjukMo81fYORq1/z+X/e5psRm/nYGdo/O8ux7hgdKgQxgSVK888Y+maW+0OfM7SRx3QdFu0z/G1fgv6kFyn/5qiokTYy/Z9xMtBB/LzFmZ3bbtYyrD5mYegxn1+d5dZyEFL9dHx4gcETWTpCEN/6XqFCJAdNPfR0BmkKAraDretYRg2jBlWgPj6GWV1s5+HIeTqf9dPeEyKb2C3XwQXXwrV0jFqNahWqNRPD2tqO9dgV1wKnhqUblPIq1VoTvrZ+jv3qGOdONNAM+He5TESbCDX3kevw0xoERdhgVjH0KtUilApJCByhZbCf9z7upMcvE92+Os/GxEPGrz7gyePrTH1V5fOqoPjri7i/6eFUU5AkXj7Lq9gj8XGAEqaxzNpSjfW1BpRwP11nf82FDz/gQqdMbspmVq0yKluYThWrVmajBIWEj4ZEG21nWhgozHLjmwXuX3+IZUUZaApxvDlImu8b8GA79OoWornyjKV7f+bh5e/4+r7BkHKa1oG/45f//BmfnU1yRIUwBjBHcewbbhv/k/TyML9/5vBNMI0eSdIaU+mKR9Gk3Vd0Hq+iLj4NA82kjtn071j1AmBMwMxlRr+SWV9SmHbicOQSZ379T/zdr49wNgaN2/cSIEkgKSiyjCIDBXAcGaHF0IIx4lqVNcNFUy2k4DRL40+5f72XLvUIHUEfKd/L7VcvZyXUAP5QiEgkhdo/3gAAIABJREFUgBz2E1BlVOmg9/+3iBAgKwglgixniUSPEDr2Cy7+7mP++686OQqEd7tOkhGSgrzZfrLt1tM9ZD9CSRHwZ2jIXWLg01/yd//HGS6EFTLbF69SePYVTzNVvnJv8Yehu4z8IYypBYn3JIjF/WiqRNQboLuyh+Jj4Dg2ei2IaTbhD+VoyrXQ2ibTKCDuD1AMKoQjLn7VpiJsLAMMGwgmoKuN3OQUjVcXCEwuo8cXyRd6yANRvl+1HOzBpwMLrE8/5dn1hwzdW2HGPIpy7BK95y7x/slWTschAkAIiBM6VubCB89w5pd4dnWV8dEhntzJ8bA3SX9HlJZQ/f0c7Pfyc7IZ3aTKSOou/sRQC5ChJRMjHgri84UgnCLW2EJTc4hWfsIH6TrUY64COG4On1+mIWHQkl3F9BWYn7nP0ysN3I1p9GR7OdYoEWenAIkdEY4KiiKjyPVIunqMqMcr2YpcE34UJUognCHZ1EIuFNqxYPgp3M1/ZQQ+JDmML5gimm6mqTFGKzvbKkToxFlC+hS1lRUmlkZYmnjA9FAzdx/10NzYQDLrIxp6Cz/rIWCPLMKtdaOKkMIocgRN1vBJBpIDFmARRvX7CEYEWsABycG2qeuW8EG8iUi6lSZfnFzNJrFRwjYMSvCWjm94F9TAnmF55jnDjxaYXPQhZU/Q+/57nD7ZTm9kS3i2EKC2kj51htOfDXD2iI+W6jj62GPGppYZLkIBbytmbylDuUa5ZmLaDq5r41o6ZrVMtbYzMOEVCAchHBxHxTTSyEo36dxxTpw/xpm+IE3VEQr3rnD/9iNuTG0wab3Uvz11+S+wmYsgHMDCsWsY1TIV6nPQ69+jngYihIsQFq6jY+kVqtYu7a80Ees7w5GLpxjoi9EaXcJefc7EyBKjMyZr1b376Q4be7sdKVyEMHGpYltV9JpOrVYfXI6jIEuAZGJiUrVcDIf6VgUhIEU0mSbhD5KwHAK6jmvZ6OxwBh9oXKCKW1mmuLrA3FKeVV1DS+Vo7uqirVklpe12XRSppZ3GIy10ZGVyzKOtTLK2XGR+AzYsT3z2FEMH3UQ3bSzHwXUdXMfCNnWMGtRe6yYuriOwTQ1JSRJu7qbl7CmOD+To0dbRJh4ydm+Iq0+WeLJsUT0cHXzfIIRLPXfOxDJ0dF633V6+kQvsbH+TGi/nhQUh3kQil6UxEyAeqCJqeQprJdYKNtXXqsD818keiY8EKAgcZLkIYomqsUq+WCNf2Gx4SSCrKhIS1UqF1dVllleguAH176hRKdeoGhYGAkeWEZKExGFZDNaj19xikWqpTN52qPh8aJEQsUiIkG+7CPhLyOALQzhCOCTIqAWi5hrWRoVCESq13ZIkPd45roNrGbiSQEo1Eew5QUtfHydbgrS7S1QmRnjwYIyHzwqs7lxO794JPN6YLQumPoe8Pad//aRnx7KwbAfbFbiSjCzLyFslwzx2ZY98PjIQQJZVtICOFshjsU6+XGa1ANUsKKoPLZUmFo7gzK0y++gaVTdEu5NEbSojl+6z/N1jHk4uMUUDkUgQxacS5LDk+dhglmC9QGXDYM0JUgrGSUZDxMMSQW0zG/4HnVUAAaxQlFDYR0azmbdKWBslCnmdUs2HE9rtOo93imvXw6ZxcHwpRKKLxiAETgyxdH+FifVRpu895FFnMxOdcVqi8o78Hc+W/cuovzfXlQAVWQngC4YJ8TZzoxwwqri1EmW9QsGx0VUVNRgkFFRQD8fk9VbYI/GRgBCyEiEcCxBNg2xXKdWKrK27lCsCKRDGn+shl31KdGicwrPPmVlcQMt3spiyUWcfsnx3jO9GfMyFWjjamCAQ9hOFF0KtD+6wdEAv4RYLlEsWK2aEvJohFYkQiwgiAVBeZfkQQopECYbCJBQZf1mnVtwgXyxTqfk8y2ffsZnS6Nq4rsCyI7giR7zRpul0Jwv3xrh3fZHl5w+ZftzN4/PttLfFaAf8Qmy7Ljz2gLf9Il0TyhuYxTzrlRIrrovu9xOMRoiFNfye+LySPRSfAIqWItWYpKHZj7JYZnlpjvGJZRZycYyOMFq2n6beRTrvLdJ0/ybzs4+5utTNM5+CNjVFflZnNXyC8IlW0v3NNCZDxDgslo9T9yfUqug12LDDVLQYwufD73fxqa/aGhCAivAH0HwBApKCYjmYtRrVWhXDfJXF5PFucUHU64rZVRlbDxMIt5EdOEf/pSnOzj9lefoJG0/bufOwl6a2YwTSCm0KoEgILznkDRGAjBAuiloFd4HyyhMm7oW46c+xAuxWGEQJRPHHMkRiMaIBCG7WnBRQr7jvyghJQ9EC+IP1nZgXmkZfovZshIl74zyb1plzU0gNOVpySdqTCrFd/bgesKfldRRUX4rGpiZyLTF8qzrLMzM4T8eZ7ulhoytKKtxLoMdi4Ngwl4bvULyX59HQbVa2w32aCOe66XlvgFPnWulI+39gLh9cy8cFx4HNjGrLlbGFApKELPMjvq16jTdkGUmSkISEcMHZKkTqmT37Gtd1cEwb15aQtUaiuffoOj/NxeFF5tdmuT91hwfXj5NoztA0mKGtQYBPrhcSxVtTvD4SICPJDr5AAdcts/o8z41/fcD8d2Gi7L6IDbUO0HLmb+g/c5aT7dAhZGTZrQdHIeoh15KKrPnQpJcFbAPWnjHx3S1ufDHKg+d+SvHjdHYe51h3gqNpiB+OlfNbYQ/FRyD7ksSbe8kdmaUtX6VxTcFnFXFNgxoqSI2Q9dF75hK/Wh3GkcaQxxRGiwKsKEr0FCc/fZ8PPurn4rEMrWGJw7NwqDtAEYL6P269wjdsV93dXVi3tnC+r7ILW7cSnn96v+O6uLaO65o4pCF8jFTfRU4NDrM0t8T802c8u3uNG005ehqCnExLJCUNISRkPPF5fTYL8UogqzVwa1TXysw+nmN9QkVj952F2KpEIXWOaC90OoC8WaVcgCRbSFIJq7ZIYf45U8+jPA1JpIF60PUYszdvcP3Kc74ZlllX+2k59hHnzpzkTFeUrihEPAv2lext6SE1ipw9Rfa0jwuBEupqA6ST9Ka0Tb+NDGqKZO97nLAquOlp4hM2kyUXV06gxXo5cnGQgYEsR6Ly92VMDgU7RAR3U3rqU8uWmf9qy2crcqf+BZuCtVuJd4/9h2uDa2MjcNAINB6hY6CPc2PD3Jqe5v70DYbvd/PgRDuXOuIEnQCuWy9q6kVLvS6bYdEu2JYPRIhAopFsbwMtTXXLZ7fJLtx2lNaWOLkQhLeEwq0fX6n6qijaDKUVeHZ5mf8ofsd9TVDPGa0Ccyw/n+XJsGAyNkj22AUu/upDLpzv4kRjgIQnPD/K3oqPEoR0P4lwBx+0WwwYKq4aJBYLvigkDQNkQo2cP1Klp+xQNgFJQ9LCRBIxogmFEIetJlI9cx1JQhICWdjIrgU7zpT5UctnM+fEcV1cQX0LTpK8yekgIOota1NPdlTVNJH2fnpPjXB0eJHM2ihz03d5OnyW+11BmqICxxUo8uue/+NRH0E2jiWhV+II0UKy6zwX/mmQT9/L0cHuEW9yIEow3kgkDjEZJMcBW8ZGoGg1ZCVPdSnP1N1x8uN+AqI+abqbqROGSLERGSR27kM+/vgs/3KpjfZsmGTQq6nzU+xx0VUBSgQ5HCEVhtSrvk0KQqSdaIQdRfoOOxKoPggE0PwQkcsEnSLoOtWqQDfB2XV/2AUshKFjGjo118RSJNSAj2DAj6Z4qSEHhfraHCCMaDhG5vgkfUcec3xkiOLKEyaGnnGrLUFfd4UULpJPQshe474eW5aPwDIDIJoIZY7TefYDLp7P0Pe6t3GczYP86iHbrqshKyH8kQSxdJjodlXr+jafFO9GOfIxHRc+4FcXOnm/3Wuv18Wr+P2zIYE/hIjECEcUMmqRWHUZp1SisOFSqoJVt/ZfwgbKOMUC5VKJdcumpvnwRyLEIyGC/sNmIR5SNn119V81CLajtg3QdeQI5+5Psji2wsT4U54+jDKqrSNMC11RcCXJCzx4bXbuHWz6Vt/49Nf6Ys91XcxaAMuIE0ofpfejE1z6pIMev7JZS3FTfIIplEw7iVyOo01eK70Je3iej46tFykurpFfKFA0Laq4m2Xgt44D3mTT6Y6kbBZPlFAVkFwH25KxjCCBZJxEc4x41PfKszgOFjKoYUjECUV9pGSdaK1Qr1RQcigbr7JgbDDWMVYWWF/Ls1gVFP1hItEIsbifUABv6+0AIbZ+leKQ7KWl/yzvj08zX11nfeUxyw8cnoVVlKjLshHAdOvt6y0wXoctH6oDmPUSX5USZdJUeN1E03ppHlwXy/BjW40E4ifpGPwbPvmXs1wMypsBBx7/VfbwPJ8i+sZTpr67zt3PHzK0VmKOrfNMXoGkIhQNTVPwafWHsfU4htlJ58VTnP9tPyejPrJ8Lz4Hd56VgCAiFiUQDhFXJEKGQWGjQqFUoawHds/XsQxYX2BjdorFpSLz1QDFSJL2aIhYDEI+b2I6GOzi0fNlSR45w8kP55hYu8Xzy+OsjOaZjjUjckEm8z6qloUiNoOwDm7nfwdsBvc4Dg5vWoLq+0oJrqsgKQG0UJRw8LAFQb1b9vQkU8dcZ2NxkvknQ4wuFnjOT1QBtms4RoVa1aSkK9hSBF+oi2hcwmrpoKNqUuXFjnNwx58A/IhAmlA8RTqmEWaDhaVJ5scnmO2Js56RibwcW+7ksSbGmH40xuhUlRm3BSvVQTITJRuFsHqQ38lfO0H8TUfInskzMJVnbPgyD8dmWRmrsFZqYXxBp1yTSMsC2TNvf0a+t6CEsHBtHbNaoqLDhg8S7/jpDgt7JD71iVX2NZLsGKDnkoy9XibHT1ST3RijOvOA4SclbldkIIvT0MGJi30MnMrSHvcT5sUtt4MdWhwApYV4uolcq0JyZJrq5E1Grx/nQS7Nic52ksmXDr2y51h5PMTjq6M8eO4yF+ki132MztY0RyL1UzW9aemgIoOURcoN0nF0lDPdVyjOF3i8OM5k3mCjKFOtJrbP9PHa+V3g4ro2jm1hmSamT8XB223YC/awsGgMX+QYbe/nSPV9yqBpY/ATxyGs3GTj0X/yzRf3kb5yeeIO0HH+Ipf+5X0+PN1KX7J+DO3OILCDLT4a0ES0sZPWE+10Ti3w6NFTph99zdOWBNfaNHxnExzdPsl0lsLoQ+4+muH+uMSy3Eb46GmOnjnGifYkXYF63TtvUtpL3HpFasfGsW0sywZ7M8T9Da+3N6+3f/T6ICjtJFr66DvdxcLyBM8fFlmZrFCzA4BWj7wS0gHv+2+bH7bbj7/3H7uVu30f27Lr1aodL6dur9lDy0dFUmOEMzHCmZ+8YJMY5PwE5DTl6hNiKw522sJKBDCCUQKKeKGo6MGnXgMv2HSMlgu/5vSGxLJxB2Xma9ZuGPzRfs703SidCgQxgSVKS2OMPrGYCA2S6jnDwCcX+eB8OwPZEEFv+fUWcMExcYwq1XKJjQ0VyjpV08F0X8N34Dpg61i1MtWNEhsbVbSKiW652Lxq8eQj0HiE9vMXOVaY5/HUCHdmDWoYwBrFqkHFcjAd7/iMV7L53m29TKVUYqNYRVRMapbzI+991xuBY+Ca9WCFUjHERkmnativ1/4er807DrVugtYP6Rh0+XR5Fh4950ohws0b3ahmnObjCeINh2+GVRI9JAcCnBJJZGERuXKdKzPfMfanUaa+04hIoGwmsZlCw4qeIX3xEy6eG+Sjc80MdNRL8Hu8DQRIMpKioWo+/H4f+BRUWbxmuZvNKE5VQ/P78Ps1/JpcTxj9kevlWDPx4x/SXSxw8p7N6ONn3AbKKCiagizXE4o9K/dVbL53xYfm8+EP1N+7unkm2BshyQhZRdF8+AI+/D4FTfHKHe0171h8FPC1EOse4NTgt5Qrw9x7MMr1Pz+EWiNn0hpdDRH8HIZQ6+8RvgS+TIK2M0HCUp5AAKR7NdRph3V9M8ENAYRQIjlSJ96n/8Nf8MtzHXzSBvHD9DL2GyIAgWYCuX6OngvxUUMYujs51hgirfLTtQbVMCLWRbL7HP3vV9DXu4ieytIV9xPhR3wFahwldYrsgMHgxzKVfJaUZZKnm9SZLo42hsho4N/TH/YQoYQQ0Q5iXWc5/t4Gpc52gieb6U4FXllaZ1eEAoEs/uYTdJyO856aoNDYyUBrjIwiDlGtyXfP/kgyjSZIdHTQOdZG5lYVZ2KO5cQ0U/lmlogcklDrXYi1kez/WwZCrfiPV+lbNtjQd27PyIhgklB7P7nuFvpaPOF568gRiB0j3p/ko3CBjqIG8Uay3XFaNDbrev0IWhI5e57cxTb+ptnipB5DyzTSlouQ5seOB1GBRsJN5zj6ywShlg8YcGyqxPFn22jsTJLzvxSM4vE9ahypcZDsuRyfNRocq0RRMk20tEZp4A2OZZF8ED9CtC/E2dAGqff96MEMDd2NtKsSAQ7ZHPQO2R/iowQg00om3UmaacIrRczFJVYrZdaAnS6kw9XwCqROkUn0kzzhcNZxcTZLXG8XHZUkhKIiK9IhOddonyOFINRBuKudUx0uJ1xACCSpXjH5J/ufFkVKHSOT6CN1HBx3M8v+J7bd6ihIvhYyJ7Ok+h1OsNkP3uTz/1pRw4hkH6n4ERJ9b/redyBUCLcRDLXS1+ZyxAV3+/0LL8ptD9kf4kMIYjFi4SghIaPWDIxylappUT+I+DAjgaQha4dra/HgslVBvJ7Y+eZtIkDICLl+7V/UppKMJMneRPdGbLabLP3l7337VlK90rzkhVS/Td6x+LhgGdi1Kay5OSYX1lg1bKp+P/5IiJCm4sfrAB4eHh6HjXcrPsYMhaePmHr2kImxRzx+PMq9lTCLiSR9LQ00RUKkOEx5Ph4eHh4e8E7FZ5n8yA0ef/Fv3Pj6FtdGizws2yzK5zCPttF6rJWuVJgMnvh4eHh4HDb2SHw2c1Iqq6yNz7IwvsRy1WCD+uFZu7PI6qMrDH/5e25fKXDTlajJ3YQv9DDwXh+XTufoTgZesxKth4eHh8dBYg/FZwOj9Izpm99w899vc29lgykXKq+8pkx1eYa1yQLzLtRog5b3OX7+Ir/95Ai/OhYnF/Fc8B4eHh6HkT3cdhMIyQGzir2Rp7KeZ91yKL6yJpILbhylJUaLSEFikOSZT/j7vznHP55vYyDoBZV6eHh4HFb2SHwUIIYW7qbltMEFJ0tqbYMZw2LDepX4SEiKhuLzo/qSqLEuEh19DJ5sZMDba/Pw8PA41OyN+Lj25tnncXxtZ2lOn6RBSMiqjKq8qhR8PZB+O3lLCISQQK5QqCqocv1aRXrTY3A9PDw8PPY7eyM+dglK85SX1nmyojDrZEg0NnCyw0/Da99kBhbnuPu8xpN8FC2R4Xh3kp5MwKun5OHh4XHI2BvxsYpQeEzh2TB/vu1ypdBF8/EBHH8vv2j1vcaHFGF9iI0nD7j8TZk/zuaI9Bznn8I+si+Jj2cFeXh4eBx89kZ8nBrUFqktjTL2xOD6okOrlOTcmQYKrQ2kfvIGOugrWMvjTD1c4c5wiXA5xqkLbZynXkzRq2vm4eHhcXjYm8o1Quz8besP64X9XusGDrgulmHh5su4ywWMfImSblLixVwhz/Lx8PDwOPjsjeUTCEMkQjgcIRI1iFYiRCJhwuHwa5SA34DVCeafT3N3dJ2l5RquZRNUBKoscHmpqsFmhVlZll/4UlUVTfO8QwcBTdNQVRVFUZBlGSEEiqJ47XdA0DQNTdO222/nGFSUfVKr2OMHyLL8g3aTpM2gL/HzL+v3qKdooKloqoIiO8iKgqKoqJr2E8ECNSg/ofjkMpe/usK/fT3N/Uk/+YBGezpCIuAjtMtDik0B2nppW/8ty15S6kFgZ8cXQrzQhh77n53t9fIY9NjfbM2TO8fe1tfPzZuLj+uAVcWqlShXa5RqNnppChbGmXy+xNKKQS0fYmM+zvgjuOMkib/qXtUxmP6OJ1e+5H/+8Tb/446FzUmUnhzZnmZyiSBxXvT3OK6LYRiUy2VKpRKVSoVyuUw+n2d5eZlQKITrehXg9jPr6+usra2xsbFBtVpFCEGxWGR1dZVwOIwQwmvDfYyu66yurlIoFCiXy1SrVUqlEuvr66yvr6Oqqtd++xDbtlldXSWfz2/PnbquYxgGlvXqQmhvizcXH8eA9RGKE/d59PQ5t8Y3mFpeh9IMhYVl7k/bFKuzOOVnfL6eZiwTePXRv8YCrDxl+skQXz+y6r6dVJKG4310HW2lOREgzIt+Htuy2NjYYGFhgfn5eZaXl3Ech7GxMUKh0Lb4OM7hPgXooLG1unJdl2KxyOTkJDMzM6ysrCCEYHp6msePH5PP5xFC4DiON4HtM7baUNd1FhYWmJiYYHFxkUKhgKIojIyM4PP58Pl8OI7jjcF9wla7WZbF4uIiz58/Z25ujpWVFfx+P8VikUqlQjj8856T+xdYPhaU56nO3GXi3i2+vbXCo7kaWBWMao21skvJ1qiuPefevI8xv/Lqg50cHcwKtbKK4XOQtAbazg9w9sIx+nsbaYqqP9i2q+k6a2trzM7OMjs7y9raGoZhEAwGMU2TcDiMbdtex9+HyLKM4ziUy2WWlpaYmZlhaWnpBZ/P/Pz89kDx2F9sba/pm2Nwbm6O+fl5yuUylmXh9/up1WoEAgEsy/LG4D5hq90MwyCfzzM7O8v09DQbGxsEAoFtKzaVSv2srou/wOcjgRpGiTQRa+ygtSNOLVCA8iIbq2uUDYcNO4IdTJJojtOS9ON75b1kkBVkVcOvKgRjCRpPf8DR822czGmk/S9aPVsT1/r6Oqurq6ytrVEsFhFCsLCwgCRJ2+LjTV77iy2BsW2barXK2toaq6ur2+3n8/mYmZmhUqkghMA0Tc/y2Wds+Qt0XadQKGxPWrVaDYCFhQUAgsEglmV5Y3CfsLPdSqUSy8vL5PN5yuUyxWKRtbU11tbWyGazhEKhn83/8+biI2uQ6CV6PMLphotkLuoU8rOwfI/ZJyP8P3ctrq3nSPcc5W8/6eSDnjiRV91LyCDJyIqKpsj4/D4CqWbi6TDxMIReegeO46DrOqZp1h9l03GtKAqqqm6b/JZlecEH+wwhxLblY9v2C1E3Oy0fTdO2ndee+OwvdrbLzvaTJOkHY9ALANo/7AwGMQxjOypRURTcTR96tVpF13WCweA+Fh+hQKiJQKiJ9hy0A7AKy62s9Dyl2mQRW2+l4cgx/uGXPXzc5t/T8jiKohAOh0mn0zQ0NKAoCslkkra2Nnp7ewmHw9sTnMf+Ycv0d11322e35dsRQpDNZunu7qaxsREhBLZte+Kzz9iKkNJ1nZWVFXw+H7Zts7GxQSqVor29nZ6eHvx+P7Zte2Nwn7DVbqZpsrq6iqZpmKZJPp8nFosRiUQIBAI/e8TbHoVapyBzivSJHL9MOvRUY4TSGY617q3wbG2rNTY20t7ezvr6OpqmkU6nOXr0KIODg9sBB97Etf/YEp98Ps/4+DhQj8ARQtDZ2cnp06dpbW0F8PwF+5CdAQezs7P4/X4MwyAQCJDNZjl+/DinT59G0zQvYGQfsdVupmkyPz+/vS3q9/tpaGggm83S2Nj4swvQHmaENUK6kWNpOAqvDjL4L7AlPul0mqamJhoaGjBNk3Q6TVtbG319fYRCobfwyR57ydraGq7rsra2xvr6+rbl09PTQ2dn57t+PI+fQNd1/H7/duAIQCaTob29nWPHjnmJpvsU27YJhUJUKhWWl5exLItkMkkmkyGTyeD3+w+q+NQRvB3h2WLLN7C1t7zlJwgGg9s5Ih77m3A4TDAYxOfzoarqdsBBKBTyEhUPAIFAgFAohN/v365WsTUGvSoV+xdJkgiFQgQCge2xt9V2mqYd1G23l3HBNtBrFqYjEKqKoqko0svC5IBrY5smpmljOaJ+wJymoci7F57b8udsRdNs7S2bpolhGPh8r46t89gfGIaBaZrb4bhbodWGYbzrR/N4DWzb3k5M3Epr2BqDHvubrXbbGntbbWfbNqr685Zv3mPxccBZgZVphodmeDBeYV1OkT56hO6+dlrjgjg7RaUC+gL58ec8HZpmdk2Bpj6y/adoa/XTqPGDBNWtBNKXv7YEyROf/c/OSWtLfLwgkYPDzkXfbmPQ23bbn2y12cvt9q4Sgve2l7gVKI6hj17j/p8e8K83DeYixxn4bQzR2k48DrEXLqiBOcfG5DWGPv+WGyOCctff0G01czHQyvkGaPL6sYeHh8ehY0+ndkdfpzLzkIUH3/LowTj3JxvYaBN02Aqq2G0bTYBQkFwTtTJLZT7PcK2RxebzyJkIzYEQ6YT6tvYGPTw8PDzeEXvo3bWxKkssjz7h6dAIcyUXtbOfzvMXONmb42hUEPvBBwZBayfeeoLTg32cG4gRl9eYGRnm0dAM06tVai99ihdO4OHh4XHw2SPxcYEqZnWRpbFJnj1dpWAlaTx+jjMfnudsXxM9YYjysngEQMsRbT3JwHvneP98F+0Rh9rkONNPp5hdq1AEPE+Ah4eHx+Fij8THBkpYxir5xXWWZgz0SohYvInmXIxU/CcslnAMNZuluTFD3AV3YZXC7AqrpRoFYGcMjWf5eHh4eBx89tDyMXEdE9N0sAwJYamoQkVVQP6pCD5ZBlVFlTVUW0IxHDBMTMfBALxcdw8PD4/DxR6JjwA0hKSh+hV8QYFQHUzXxXRfQ3zQQFjgGDiyixtQkQM+NFlC27uH9PDw8PDYJ+zRvC4DYRQtSSITI52V0QIF8vlpZifzzM+6/GiVp8IC5uQckwvLrAoXpyFBOJsiGfITgxfqw3nVojw8PDwOPnsUxSyAAKq/kYZclpZWjcDoNPNDX1AyK4QmE+RboxBvx59M0xM3aRHz6IVlRucrTE+NYY5d5dHjUZ6UO7Eam8i058jGQkTxLB8PDw+Pw8YeptBIKP40mVwnrZ1ZGmbHsMa+5Onzx2yPXmccAAAeEUlEQVRc93E90wydnxLrOcpvOypcku5SmBzi93dXuDq8ilOYZbVks5I7Tbylha72LNmon8BLn+JZPh4eHh4Hnz3N35S0OKFcP7n+OfrXbKbWR7jxbILhUXiMD7LrcOQ4emeZFek2+fGH/PttnadFQMSh+Qidrac429/J2a442bD6VouUenh4eHi8G/a2eIASgkw/qVM+zmsxosGvSak3+NcrFRbRYf5bWBvh22cGs2KG2prLyFYWaeoEibO/4eJHn/G7822caVXJvGz2eHh4eHgcCvZWfIQC4RaCwQb64lF60lHi0STlwBP+8+E6SApCslBlwQbNuGmbZgucVC/J8//E4C/+nt9d7OVXPZD0HD0eHh4eh5a3UDZNAsmPnDyO3C9zRm4in5qh7WIebB3XsqjZAgMVSdbwqSqBTBvx4x9y9GwvFzKQ3PuH8vDw8PDYR7zFmp1BCPcRP97GZ201ztVscB0E4CBwkJAkCVlykWQFlCCqZuHTZRzZQQhwJQmEQPBXVNnAtXEsG8sFkECWkIWEJP0VvYN3gevW373r4DgutuPiug6u49b/ardrhEBIMkJSUBQZWYAkXHAdXMfBdlwcF+otJyEkCVkWSD/akC649c92bBfbBYSEJEtIQiCE1w++x8V1bJytIx5cNt/3FqLeRkIgSQKx+W4dx8V1X0r/EAKEjJAVFFlGkb5vS8excZyt65zN31/qE0JCCBlJUpBVCdXbuflJ3nLB6AAiGCARhMSPfl8Bd/QRz+7NMGo4bBgNhDvaaDneREtDmBiwlad6uAfeLOXRUZ49W2J0XaEWzRFpbaMnl6An5cPvRV+8JVyoLqOvTrCwMMfzxQIzqzqmbm4eiOjuXmVD1lAy3STbjtHV0UZvGlJSCTamWZudZGxulYkVF90OAI0ksjk6BxppaQoR4RUpBE4VqktUF+d5Nr7O+LqMHWmgqbudtpYkKT94B8VvUaa6NM7yyBOmJuaYzsOKvaMiipBBUlE1Fb9PQhEOrmmg1wxMy8Vmh4AoIYi142/tpb+rlYEGmYS8DmsTzM1MM7ZQYGa1hl57RZ+QAshqA4FIO50nOjhyMklu10r+Hlvsg9MK8rByhbv/8Xu+/B9DfGuorNtnaf/Nx3yajOBvCBPkr0F8pmHuNsPffMkf//iUL2ciFNsukfvoU/7xUpBczBOft4cL5Vlq45cZuXGd/7g9x7VxHctysG0H51WWjxbGf/QzOt+L80mojXQMUlIRlu+xePtLLl97zOdDNgUjgesep3PwEp+o5/mgKUQ3rxARpwKlEcrDN7n2hxE+H9GotZzh3N+H+CyVxOeJzw4qVFeeMXvr99y6cpcbUzBigLX993VrRpIlZBkkXHA22/Rl8fBloO0SsXMB/tGfpS0mkVAWYeYqz7/9lv+4NcN3ozVq5iv6hPAjRDv+6CDn/uESv0yeRmoNk8UToFfx84qPPoe+PM3Cqs5yxaZc28A0Jlkcusqt//sLLl9b5g4BIERv5wC9GyaH+2BeCzYmKS6NMbc0ysyDW1z5wzd8/uUYVwo5WG6iOXeawX4Tyytw9xZxQV/FXB5m/vEt7lxZ5LvpAFoqTkM2Stwno7HLwkdRUGQJWapvpQkAq4JbmKIweYtn9+7z7TWoIIAZnpVUpBOtJE+2k4xCaLfFhKuDvoi+8ITn9+/y3Z0A5SNRgmfPM2BC11t+EwcNIQRClpFkBVkBZec4sUtQzZNfLTC3olPFD5Ek6cYUiahKSPB9KoeigCyjSILN3X7Q17FWn7H49Db3rsxyZdyHnEjQ0Bwl7lfwsdUnbGx9jfLCOgulNWylCjGBeamPM61RWiLqD05k9vhZxaeEM/ENz299zrWHeW7O2SxuVDH1NQoLk8w+WmYcAD8oYaRwgJCqEOJ7q+fQUV2mPPoFIzf/wDf35rn+YIbHI9OMFWBr/WbYLo6Dl137VnHBNXFtnVoFysU4KF009J/ko1/3cjwVIAE/zDmTNZR0B/GWHB0NkFCBqoNtmNimiWWAsXV/RsgvD/Fo5Dydw/20HwnTnNxtVbzpM7ItLNNA12V0w8K0HexXWWB/tYQIZPpouSBD0zlyBVjb3nZzoTYJC48YujnE76+vMVbOEOoY5MSng5w+GqVV5vskdiUE0Vb8uVaONitEfQKqOrpepVZ2KRdiuFIH6b4TXPpNHwONQVJs9QkDY+0x09du8ujaU6bvlLniQGnFxvzdcZSBNM28WCbM462IjwP2BvpGidVijXLNwLFsjNUxlm7/Gw+u/n9cvlflykyADTVEOOYn6I+gtIbocPy4gX6k3rO8f6aF3kR90O8Un0Mx+MwSdrXA2sg1nn71v7jy7Zdcfu7j0boPXSQJhIu4WpRqKkA0oKBJdUezx1tEEgjFh6Qk0DQ/6eh5jlz4Fb/839/jk9YIWV6xCBL1QAJJoh5IUAEHBaHF0AIJ4r4a66aDT7MQ4RmWx59w/1o3XWofHcEAGf/LoiaBpCJpAfzBMJGoHznkJ6jJqJK3hfMiQfyZPnKpXpoH3Ze2wlwo3YOROF/LNpNzM6zkO8me/AUX/9vv+O37GY6r9TPG6tSDE5C+D/DBcTFQEUocTUuTahykZ/BXfPa/XeIX3XFa2OoTNWrLNxhvdflO+RP//uUz7l3xc40QwfYYifY4fr9Co3qY3QZvzlsQnxVYGWLi/lO+ejjL2FwRs6ZTW59n7fkNpsc2GFmBVQIokaO0DB6h72gTuYCPqD+AquWQm9rp6W6lL+X/wf72wRcfF8oz1CZu8+zbP/Gf/3mXb0ZgIXmU2Nk2svIKytRj5osw6bdRBPUV78H/wfc/Qqof6y4F0HwxgrE0yWyKrPYmfhYHFxcHP47TjOZXyCQM2ppXMXxF5mbv8+xqA3cTfnpzR1Ca5F2sKrEZ4SYjyzLyVqTbHv+4Bx+xue0mgbyLZZpshMYEmViQkN+PpoXwR5LEMlkyIYn0T93eBRcBQkEIP6oWJRBNk2xqoOmFPqGh5QY4/v4k7vo8UzM3mb41ysLoXR497KW1r4NMe4xUAlSvEbf5L4qPhV0zMA0L23Ww7CLO6j1qQ5f5+osb/J9/nuTRvInq01AVB8k0ME0FQ86AfYLeY5/yyT99xKefdXFUlonLErKkgaLi82kENPlwbrkZeazVUVZnp5lYj7IWPUX2g19w7oNWukt3qfx5gWtPKixLBrgOluOdafT2qc8KQrgIbFxHxzIq1EoGpaD2RuIjhIPjqJhmCllJk8wJBs6vgrGCe3OM+ftBHjQmaO/LEkzFCag7JjJvcto7zDKUa1QMC9O2cV0T26xhVEpUiKIDvh+7XmyFarsI4eC6BrZRoVaqUk4EiL3wzVHU9n46BmcYeDzH8Mxz8tUJ5sdneTZaZiARoz/uic9O/gviU8JcHmPq1jPGny8yb+ms6Xn0taeUR+/xza1RLk8CJFA6uzja10Bn0sVXWGNlVGJuroVsvJXWzqMcaclwbK9+ooOAGkGJt5LsGaTfgLi/j5ZL5xg8pZIcnWLyvsJj1UFybXA94fnZEQ6ua+NYJqauo6Nh8ia+RxfXEdiGhiQnCOVS5AZbiG4MU3zwlPXhhzy/18mVs6dozIXoaFIJ7YO408OFC7oBhoVhOTibuVOubWIZOoYJuvoT4sOOtYBw6nlgtolp6OgEMNjpx1FBTRFtaiLdGCUVttBWipQLJdbXDUqGN45f5i/s8iVghJmH33DzX7/m6s0xnriw5Jq4xgZ2aY3lVQGkCbR9xNm//w2f/aKT95rXUUYecOf/neJqSYNaDadcRifz06uQQ4OAUAu+zgBH4+dIXpCoKTHCmRTJyCwbw2WmLQPTActzML8j6mnNQtQToSX+Al+La+PaBq4EUrKRQGeUFl1QaZ1h6dEqj6ZGefRgjN6OFBciadJby2jPuXdAcQGrHmhi2ZguOJKMrMgoioTsOet+wBuIjwvo2MY6hdkxVqauc/MPf+bPX33Ld2N5xqPtiKYszfEcDU0u2aM+ZKWV7IkPOfW3n/HhR1nO+sZx4mX0m0VG/SbrehWzVKJCXc7+OsQH0GIoyRiZJGR2/rltYxhVLMPCcMB2N7eC3slD/rVRl3nXFbiujJB8KL4g/kg9IfSNU6xcBxwdcHC0FCLRTUNQEDz5iKX7i4yvjjJz/wFDnTkmuhK0xuQdW3vekuNA4uqIWolqtUTeNClJEoFAkFAoiF/jJypb/PXxBuLjACXs2hhzdy5z5z++4KsbT7g5tc5z4hgd5+k99xGf9rdwvlmQ8KuoSoxIQysNXc20+AQyJrJwceqFLjbLiHgD7Xu2Igvcrf/z+NnYOTO4gLO5TQP2G99rqw1tXFdgWWFct5l4o03zmW4W7j/n/tUllscfMvO4m6HzbbS1J+gAgpv1c7x5ah+za8kvCyob2Pl1ChtFliyLks9PPBolHg0TCniRii/zhpZPBUufZunJHR78+1VuLtUYAtCCEGkm0XqWvvcH+eWgn/YfBLUbQJFqqUq5ZqLbLs6mQ89jE9vFRtQjbPAmoJ8XCRDIioWiFjCrE6w8v83DP+uomzkdLw8WIStokQzhVBOJmJ+oD3ybXVrggqjXALNqMrYewh9uI3v8PP2XphicG2J54ikbT+9w+2EvjW1hgg0qHSqgbob6euwPXIHrSgihIqt+fIEQAV72AeYxJ0aZuvOM4ZE8E9UYRksLjS0Zupr8ZAIgewP6Bd5QfGxwahilAqXlGoWtvzLWYXqMxScjzJ4+worqp/0H12+WFHWc7cJ+Hi/yygKWHm8ZAcgIIaFqBpp/jepClambM/xh7TJ3gwoBfrgYkPwR0sc+pufCrzl9sol+DXySQJa/X1O5roNrWriOQFYbCDdfoOPcFOefLDC3MsfdmXs8ut5PsrmB5vMNtDcKhCbX8452+UyPn5MdOxDuZhi+oqH6lJcqFligT7Bw/y63vnjM3SGTBfP/b+/OvuK4swOOf3+190Y3e9MIkEAggbVgWdKM15nJiScnk+fk5O/MQ/KQZPzi2DOjsS1ZtmyQkNgEjaBpeu+uNQ9NY1mRFDFCDcj3c44eBDRd9K2q+/tV/erei/SMXWHm/AizOcjaMvN51iGSjwJslNFHKjfFmfkV5h4VMHQoRSHh3l2qf9b4utcl7vyW7cu9nLcUaaWhMDHMBo7j09B1sE00PUTXdAyjvZxaypaJ49OuOo1SaHqAZlTxWw3KmyWW6w5bhobOc5JPPEPOPIc22WLMBXd/5PCzytNR1F54EPmEJCBxkb6Zm1x970e2N/Js3LvPD7f/xK3sKOeHE1wd0OnXbJR6/nuKbmrPhjUtRDPqBN421e2HrP0wwL2J9oPHBh6wQXn5S776nx/4412XFX+SoakPuXTtBtcvDHFhAPp1ST7POkTy0YAEhnOOkSu/5ca/5ujdqbJFneLWAvnb3/Hw4Wes/VeBf9u+w7dne8iZBj1WP7ZzhuxYP1feq9OnGYTpBLrtYekWccfCQUpPiOPUvsdDFBEGOoHXg+H0kh4bYfLiENmESZz/e/JQdoL+C5NMZh2G9y+5dW7b/WwGGwUQBQRAiElseIaJS7Ncf7TArdVlvln/Cwt3Jvn2ylmWzvYRxyGKNAwtkpvUx6o9GzYsF8vZo/XkNuvfFPlvvuFBxtqvTB4ABeqFNR7crfGjPkfy3av8/oOPef+TOW5OZBiWxPNch5z5JDCcSUauDpE+e5M5L8ClxN7DL7jfH/En7c/8dXORR3/Js31Xx1ERWtRPGE4xOjXJVj3D9FiLDbdJNfSI3Aa1SpMq0ATib+iPFOLl2stkoyjEcy3cZpZYzyUmbvyKf/iXq1wfjjPAc+75aAZmspd4OkNPCpIKiCKC4JmKFKr9n4B2xT7T6CM5Mcf5y4tc+CHPcGGJx49vs7BwnTvnEoxkFFGkMAwl936OVXuRvW74GNYeXrPMztImtwsx7ls6BqAIAY8gsqkmrhBd/5gPP7rBP380xbuTadIp85eziveQDpl8DJSeJNabJNYL/Z1vjdhk8UglMvQs1LlXcqkEFcLGNjtrj3i0tsHjpe+ohsOcPW9QedBibVthRgb23SlSF3L0TPbSJ7XixbFpV28NfIPAT2Imx+mbuMrF9z/g/R6eeZr9JZ438/npW/sr55KowVkG5la5OHOPucW7lHZ+ZOX7Rf463svsVI1BIjRbQ8ld6mPUXrUYRYootNB0BzPVR282TV+8nVTaYwMN5Qyin/uAzLsf8+nNC3w4Z9MrA4eXOprnqpOTZN/9J97LvstoocUnDY9WsEmw+z2LX9zhj/+xyNfrCzz4ap31JYOgFtEoKXTfo/R5P81UmtTfv8PgfIbhI9kgIQ7r2aXW+4tijqrCxP5UqP0uFsTHMcYvMXnhAjfvrvJkcZelRz+w8G2K+9YeyvVp6iaRpsvCg2MTEEUhvmvhNoewE5Pk5q/yyR9muZJN7K+A3H8g2Uxi9OaIZUc5OyyJ51UcUVGPBPrQRbJDF8kefG0HKhd4lB0hbfXT9+UySyE0oxBl7+JaT9jZ+46VryOKzQpW7SGtrTNMx1PoRob0YB8D2RSZZLsXhsRSdEO7jldAFLbreDWqNWrpBD0c5aIYBSoNvecZnbvGr99bY6O2Q+HJPQrfhtxPWpiZiO2Wgxu1H06U/f84hEBI4Bv4bhwzNs3g9Ee8948f8el4glFkUPA63mBFqQFIXWHi3RSfODOMXNsh3wxpeS20wh2Kjz7n1jer/OfiV5RvbfJZ6c+s3xpgKDaKac9y8YN5fvXpRS5P9zLMT9UPJNiiO9oznygM909Br5t8nnMhzhqmb2aey6UNlgu3eLizwpOHe6xnRlGjCZaLNg3Px9JA15BH4rrumaoXql31IpZMkETORa/rDZcz7EMbTjPTf4lzvw4JwogoaMD6FPlvYwynb+Eldri94aHXVtn4fpXV6gqeV2JPxcnM5xiZ7iXDLyP5KNvGsQwsXaFrCqUZKMPGsB2c2P//enHaJLCHZxiZL3NptcjDhc+4s7jGzlKd7coYK1tN6k2NuK5hyL2fY/BUpXO1X+m8VaNRqVLpS5Lm7T4fvWldqKWrowwd6+Cd4jB7ncmYjtszjTW9w7V8k1arSnnnCatfldhaKWEXn9Bq1KnR6Qb5S5AgEbNwTA1D01B6u6mYHYuTkL38LaSBGoHcNSZm7jN//nP2Nqp892SZR0WXSsWg2ejbb9WtyYnuWO2XXAoDAt/HBzzkEZHXcUyF3Idg9EPO9c4zMO/ym1ZAEFSp5B/y479/x8PbRfzJBLm4wuYtfOo/CogCnyAI8IN2vx6AqLXG+uYu+b0G5bpLSyvS2N2gsDHA6mgfQ3EAbb9fvYFuaHI/4KhEEYQBYeDj+z6+HxCEz3bHfKVf1G6DHfrtk5TfjnEYRS/4PQ7oY6RHL3BhforN7Ucs3a5QWFuiFTqA3W4mqDSkm/phdWIRPBOLV/0co/02Cj6Br/C1gCD4W/YJ8TzHlHx0MNPY6TT202tYp8YZYZDpyTzlZBpnKEU/Px9dvBVBr+VpPVlkbWWZe2tlHu0E7ROL95jd775k6fY6d9cDis7XVCKdzytfY36bJG0bQIbMmXOMzs1w9tww2US7FbCMil9T5BP6DdxGlVo5pOw3qTV9vBcmjRf9npAoaOI3azSqVSrlBlbdo+lHBLxo/7WID88wfuN9Zkt57i0v8PVjjxYesEu54VLzQ7zwLdn/uyUKIGjhN2vUq1XKlTqphkvTD18Si6eEPpHXxGvUqFVMylqTatPDDSMZCByBE9bCqpeBd94hduYcLd1AZXqw+Hmrhbci4I0nuOu3WLn1BZ/95TGfL7X79xA1cEsFqsWAYj2C1jLBYpkf8nF2kgamZgMTjF//iGtmPwwPk0xACkk+r03pKMPBtOPEE3EScZuYpWMctn210lCahW7FseM+iYRN3Nm/j8eL46Slc2RmP2KqXObqnZBH39/jFlDGwXEsTEPDkGrXh6N00C10K4YTj5NwHeK2iaWr/cI5r/B6w8ZwYsQSJgnNJm4bmNorvl681AlLPqAyvSQzvSSPe0PeKAWajqabGKaFZbUbJaIcnMQgmTGDsxrotC/P+UGIF0ZEkQWYmIaBoSk0ORkdEQXOANbQHKOXTW64FjlrhsnpfnKOjsMhPmcjicpM0Tdd4cqHdYK9c6Su5Jjqi728L5CRRu+9TPYdl2ufaDRLOfp9jz2m6H9vktlskiGLZwpaipfSU5A6S9/5a8x/OIZWzdJ/eZTzfRYZ9QqrF+0+zMFZcu8ortcMBtRFxi8McuYFhWbF4Zy45POLkMhij3/AOX2M309UmC0GBBGgdDTTxrAsLB3MyCPyXVpeQMsPCSMDSJMeGSM7PciZuMx6joYGiXGcyd8x58wTv6JT1ftJjw0xnuzU8HpFdh/6yE1Gf3WWT8/4XG2lsQYGOZNLPbdEz08MYJDE8DVm/q6P5NjHXAoDmqSxs2cYmugj6/CWD8qOkgJzEAbnOXNzlD+MNrjpJXCGRsjlYmS1V1gskDiDffY3zFiXseY0yqqXntEhxtL2ET/39cskyec4xIaxxwaZGL3BeNS+gdmmUPs9jg56wuw33Hv2Z5SmHVRPluTzulQ7JqNDTOR4qh3I39DYzexB608x2HeRgbmn3+JVLt8ZaFaOgcs5Bi5FXP7ZJh7y8p8AIwOZNIPpaQZmn/r6q36WziDWyADjWRj76cXS7O+ISPI5DqrdP0bbHzq9yghKRlndoI7oQc4jOEFJsjkirxsLSTZviqzSFUII0XWSfIQQQnSdJB8hhBBdJ8lHCCFE10nyEUII0XWSfIQQQnSdJB8hhBBdJ8lHCCFE10nyEUII0XWSfIQQQnSdJB8hhBBd91YlH3U0hbnEG/aiOEn8TgellMTwFHpZ3I7DqSssqpRC0zR0XccwDHRdR9d1TNPEsqSj+mlgWRamaR7ETymFYRiYpnncmyZeQSd+pmkeHH+d+Om6lMA9qTRNO4hb59jTNO3gX9e3p+vveAQ6CaiTyTv/P44PUBxeJ1YSv9Pr2fh1YihOtufF7bhmQ6du5hOGIa1Wi0qlQrlcplqtEovFKBQK5PN5kskkUfRWNNt+6yiliKKIYrFIoVCgVCpRrVZRSrG3t8f29jbxePzg58TJo5Si2Wyyvb1NsVikUqlQrVYpl8sUCgUKhQKmaUr8ThilFL7vH8Stc+ylUimazSae5+E43e2Te+qSTxAElMtlNjY2WF9fZ2trC8/zuH//PvF4nGQySRiGhGF43JsqntIZGUdRRKlUYmVlhdXVVba2tlBKsby8zN27dykWi0B7kCEnsJOlM2puNptsbm6ytLTE5uYme3t7aJrGwsICpmli27YcgydIJ26e55HP53nw4AFra2sHA4VSqUS9XieVSnV1u05d8mm1WhSLRfL5PPl8nt3dXcIwZGlpiTAMSSQShGFIEATHvaniKUopdF0nDEOq1Srb29s8fvyY3d1dlFKsra3hOA5Pnjw5GKVJ8jlZOpdGW60WhUKBzc1Ntre3qdVqACwuLuK6Lo7jEASBHIMnRCduruuyt7fHxsYG+XyecrlMKpU6mAn19/djGN1LCacq+fi+T61Wo1KpUKlUaDabBEFAq9Vid3cXwzCIx+Oy459ATyefZrNJpVKhXq8fjI6r1Sr5fJ5GoyHJ54R6+iRWq9Uol8t4nncQ00KhgKZpOI6D7/tyDJ4Qnbh5nke9XqdUKtFqtQjDENd1KZfL7O7uks1mSSaTXbt3d6qSTxAEuK6Lpmmk02lyuRz1ep1EIkE6nSaZTGJZlkz5T6jOZTfDMA5WR/X09BzMWFOpFLFYDEBOXCdQ5+Z0Z7WUYRjEYjE8z8M0TTKZDPF4/GBFlRyDJ0MnbpZlHaxyMwyDVqvFwMAAlmXhui7NZpN4PC7J53k6O/7g4CBzc3MMDAzgui62beM4DrFYDF3XiaJIRs0nUGdVTWdm2mq1cF2XMAyxLItYLIZt2wBy4jqBOvGLogjf9/E8j1arhe/76LqO4zg4jiPH4AnzdNw6A/hGo4HneSSTSUZGRkilUl1fraj2N+pU7CVBENBoNA5WujUaDcIwPHjWoPPMyCn5c36xOvEJguBgYUHn2S1Zrns6RFF0cIWhE085Bk++TtyCICCKInRdJx6Pk0qlSCaTOI7TlWNQqf2UeFqSjxBCiNNPKaVkmCmEEKLrJPkIIYToOkk+Qgghuk6SjxBCiK6T5COEEKLrJPkIIYToOkk+Qgghuk6SjxBCiK6T5COEEKLrJPkIIYToOkk+Qgghuk6SjxBCiK6T5COEEEIIIYR4+/0vpcBzIuWQnCMAAAAASUVORK5CYII=)"
      ],
      "metadata": {
        "id": "SwFwwG5965Jp"
      }
    },
    {
      "cell_type": "markdown",
      "source": [
        "0 -> Logistic Regression\n",
        "\n",
        "1 -> KNeighborsClassifier\n",
        "\n",
        "2 -> SVC linear\n",
        "\n",
        "3 -> SVC rbf\n",
        "\n",
        "4 -> GaussianNB\n",
        "\n",
        "5 -> DecisionTreeClassifier\n",
        "\n",
        "6 -> RandomForestClassifier\n"
      ],
      "metadata": {
        "id": "6_9g9WBg6_4H"
      }
    },
    {
      "cell_type": "code",
      "source": [
        "# Compute confusion matrix to evaluate the accuracy of a classification\n",
        "from sklearn.metrics import confusion_matrix\n",
        "for i in range(len(model)):\n",
        "  cm = confusion_matrix(Y_test, model[i].predict(X_test))\n",
        "  \n",
        "  TN = cm[0][0]\n",
        "  TP = cm[1][1]\n",
        "  FN = cm[1][0]\n",
        "  FP = cm[0][1]\n",
        "  \n",
        "  print(cm)\n",
        "  print('Model[{}] Testing Accuracy = \"{}!\"'.format(i,  (TP + TN) / (TP + TN + FN + FP)))\n",
        "  print()# Print a new line"
      ],
      "metadata": {
        "colab": {
          "base_uri": "https://localhost:8080/"
        },
        "id": "weWroOeY5-nT",
        "outputId": "7c0a58ee-29d4-48d5-f4a2-bb4898d91128"
      },
      "execution_count": 86,
      "outputs": [
        {
          "output_type": "stream",
          "name": "stdout",
          "text": [
            "[[86  4]\n",
            " [ 4 49]]\n",
            "Model[0] Testing Accuracy = \"0.9440559440559441!\"\n",
            "\n",
            "[[89  1]\n",
            " [ 5 48]]\n",
            "Model[1] Testing Accuracy = \"0.958041958041958!\"\n",
            "\n",
            "[[87  3]\n",
            " [ 2 51]]\n",
            "Model[2] Testing Accuracy = \"0.965034965034965!\"\n",
            "\n",
            "[[88  2]\n",
            " [ 3 50]]\n",
            "Model[3] Testing Accuracy = \"0.965034965034965!\"\n",
            "\n",
            "[[85  5]\n",
            " [ 6 47]]\n",
            "Model[4] Testing Accuracy = \"0.9230769230769231!\"\n",
            "\n",
            "[[84  6]\n",
            " [ 1 52]]\n",
            "Model[5] Testing Accuracy = \"0.951048951048951!\"\n",
            "\n",
            "[[88  2]\n",
            " [ 1 52]]\n",
            "Model[6] Testing Accuracy = \"0.9790209790209791!\"\n",
            "\n"
          ]
        }
      ]
    },
    {
      "cell_type": "markdown",
      "source": [
        "There is another way of looking at the model's accuracy."
      ],
      "metadata": {
        "id": "asSrdVmH7jzV"
      }
    },
    {
      "cell_type": "code",
      "source": [
        "from sklearn.metrics import classification_report\n",
        "# Build a text report showing the main classification metrics.\n",
        "from sklearn.metrics import accuracy_score\n",
        "# Accuracy classification score.\n",
        "\n",
        "for i in range(len(model)):\n",
        "  print('Model ',i)\n",
        "  #Check precision, recall, f1-score\n",
        "  print( classification_report(Y_test, model[i].predict(X_test)) )\n",
        "  #Another way to get the models accuracy on the test data\n",
        "  print( accuracy_score(Y_test, model[i].predict(X_test)))\n",
        "  print()#Print a new line"
      ],
      "metadata": {
        "colab": {
          "base_uri": "https://localhost:8080/"
        },
        "id": "GS_khtCZ70EP",
        "outputId": "dea3a237-8d8e-4070-d4e8-2b600e808162"
      },
      "execution_count": 87,
      "outputs": [
        {
          "output_type": "stream",
          "name": "stdout",
          "text": [
            "Model  0\n",
            "              precision    recall  f1-score   support\n",
            "\n",
            "           0       0.96      0.96      0.96        90\n",
            "           1       0.92      0.92      0.92        53\n",
            "\n",
            "    accuracy                           0.94       143\n",
            "   macro avg       0.94      0.94      0.94       143\n",
            "weighted avg       0.94      0.94      0.94       143\n",
            "\n",
            "0.9440559440559441\n",
            "\n",
            "Model  1\n",
            "              precision    recall  f1-score   support\n",
            "\n",
            "           0       0.95      0.99      0.97        90\n",
            "           1       0.98      0.91      0.94        53\n",
            "\n",
            "    accuracy                           0.96       143\n",
            "   macro avg       0.96      0.95      0.95       143\n",
            "weighted avg       0.96      0.96      0.96       143\n",
            "\n",
            "0.958041958041958\n",
            "\n",
            "Model  2\n",
            "              precision    recall  f1-score   support\n",
            "\n",
            "           0       0.98      0.97      0.97        90\n",
            "           1       0.94      0.96      0.95        53\n",
            "\n",
            "    accuracy                           0.97       143\n",
            "   macro avg       0.96      0.96      0.96       143\n",
            "weighted avg       0.97      0.97      0.97       143\n",
            "\n",
            "0.965034965034965\n",
            "\n",
            "Model  3\n",
            "              precision    recall  f1-score   support\n",
            "\n",
            "           0       0.97      0.98      0.97        90\n",
            "           1       0.96      0.94      0.95        53\n",
            "\n",
            "    accuracy                           0.97       143\n",
            "   macro avg       0.96      0.96      0.96       143\n",
            "weighted avg       0.96      0.97      0.96       143\n",
            "\n",
            "0.965034965034965\n",
            "\n",
            "Model  4\n",
            "              precision    recall  f1-score   support\n",
            "\n",
            "           0       0.93      0.94      0.94        90\n",
            "           1       0.90      0.89      0.90        53\n",
            "\n",
            "    accuracy                           0.92       143\n",
            "   macro avg       0.92      0.92      0.92       143\n",
            "weighted avg       0.92      0.92      0.92       143\n",
            "\n",
            "0.9230769230769231\n",
            "\n",
            "Model  5\n",
            "              precision    recall  f1-score   support\n",
            "\n",
            "           0       0.99      0.93      0.96        90\n",
            "           1       0.90      0.98      0.94        53\n",
            "\n",
            "    accuracy                           0.95       143\n",
            "   macro avg       0.94      0.96      0.95       143\n",
            "weighted avg       0.95      0.95      0.95       143\n",
            "\n",
            "0.951048951048951\n",
            "\n",
            "Model  6\n",
            "              precision    recall  f1-score   support\n",
            "\n",
            "           0       0.99      0.98      0.98        90\n",
            "           1       0.96      0.98      0.97        53\n",
            "\n",
            "    accuracy                           0.98       143\n",
            "   macro avg       0.98      0.98      0.98       143\n",
            "weighted avg       0.98      0.98      0.98       143\n",
            "\n",
            "0.9790209790209791\n",
            "\n"
          ]
        }
      ]
    },
    {
      "cell_type": "markdown",
      "source": [
        "From the accuracy and metrics above, the model that performed the best on the test data was the Random Forest Classifier with an accuracy score of about 97.9%. So I will choose that model to detect cancer cells in patients. "
      ],
      "metadata": {
        "id": "seU1BgCe8kG0"
      }
    },
    {
      "cell_type": "code",
      "source": [
        "#Print Prediction of Random Forest Classifier model\n",
        "pred = model[6].predict(X_test)\n",
        "print(pred)\n",
        "\n",
        "#Print a space\n",
        "print()\n",
        "\n",
        "#Print the actual values\n",
        "print(Y_test)"
      ],
      "metadata": {
        "id": "GRRh1siq9LPn"
      },
      "execution_count": null,
      "outputs": []
    },
    {
      "cell_type": "markdown",
      "source": [
        "This model has misdiagnosed some cancer and non-cancer patients, it would be ideal to further refine the models to make the diagnosis 100% reliable."
      ],
      "metadata": {
        "id": "kBOzzBRe9FLr"
      }
    }
  ],
  "metadata": {
    "colab": {
      "name": "breast_cancer.ipynb",
      "provenance": [],
      "authorship_tag": "ABX9TyOUSFNt6/pm6TTttKkhzxzq"
    },
    "kernelspec": {
      "display_name": "Python 3",
      "name": "python3"
    },
    "language_info": {
      "name": "python"
    }
  },
  "nbformat": 4,
  "nbformat_minor": 0
}